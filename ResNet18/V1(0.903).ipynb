{
  "cells": [
    {
      "cell_type": "code",
      "execution_count": null,
      "metadata": {
        "id": "ZWptM2AFfExI",
        "colab": {
          "base_uri": "https://localhost:8080/"
        },
        "outputId": "16366b2b-fd9c-4e2b-ddae-0d75c60133ef"
      },
      "outputs": [
        {
          "output_type": "stream",
          "name": "stdout",
          "text": [
            "Drive already mounted at /content/drive; to attempt to forcibly remount, call drive.mount(\"/content/drive\", force_remount=True).\n"
          ]
        }
      ],
      "source": [
        "from google.colab import drive\n",
        "drive.mount('/content/drive')"
      ]
    },
    {
      "cell_type": "code",
      "execution_count": null,
      "metadata": {
        "id": "i4xXb5NnfGdd",
        "colab": {
          "base_uri": "https://localhost:8080/"
        },
        "outputId": "b40cde94-d704-4e94-bd00-47d82340126c"
      },
      "outputs": [
        {
          "output_type": "stream",
          "name": "stdout",
          "text": [
            "/content/drive/MyDrive/EAI/Lab3\n"
          ]
        }
      ],
      "source": [
        "#change to your datapath\n",
        "%cd /content/drive/MyDrive/EAI/Lab3"
      ]
    },
    {
      "cell_type": "code",
      "execution_count": null,
      "metadata": {
        "id": "uTY8C-LBhDTX"
      },
      "outputs": [],
      "source": [
        "import torch\n",
        "import torch.nn as nn\n",
        "import torch.nn.functional as F\n",
        "import torch.optim as optim\n",
        "import torchvision\n",
        "import torchvision.transforms as transforms\n",
        "import argparse\n",
        "import os\n",
        "import numpy as np\n",
        "from torch.utils.data import random_split\n",
        "from torch.utils.tensorboard import SummaryWriter\n",
        "from resnet18 import *"
      ]
    },
    {
      "cell_type": "code",
      "execution_count": null,
      "metadata": {
        "id": "io7k6zHGb1OJ"
      },
      "outputs": [],
      "source": [
        "# Create SummaryWriter\n",
        "writer = SummaryWriter(\"../tensorboard\")"
      ]
    },
    {
      "cell_type": "code",
      "execution_count": null,
      "metadata": {
        "id": "oqc_D_uEhc1O",
        "colab": {
          "base_uri": "https://localhost:8080/"
        },
        "outputId": "0d4fb1b3-43b7-4419-d471-2a0790b5a931"
      },
      "outputs": [
        {
          "output_type": "stream",
          "name": "stdout",
          "text": [
            "True\n"
          ]
        }
      ],
      "source": [
        "#檢查是否可用gpu\n",
        "print(torch.cuda.is_available())"
      ]
    },
    {
      "cell_type": "code",
      "execution_count": null,
      "metadata": {
        "id": "CrsS13SChs9b"
      },
      "outputs": [],
      "source": [
        "# setting parameter\n",
        "EPOCH = 55\n",
        "pre_epoch = 0\n",
        "BATCH_SIZE = 128\n",
        "lr = 0.05\n",
        "device = torch.device(\"cuda\")"
      ]
    },
    {
      "cell_type": "code",
      "execution_count": null,
      "metadata": {
        "id": "3LzusjVfhxJ3",
        "colab": {
          "base_uri": "https://localhost:8080/"
        },
        "outputId": "4d649dc1-4ff2-49e5-ca23-7fd2025c0535"
      },
      "outputs": [
        {
          "output_type": "stream",
          "name": "stdout",
          "text": [
            "Files already downloaded and verified\n",
            "Files already downloaded and verified\n"
          ]
        },
        {
          "output_type": "stream",
          "name": "stderr",
          "text": [
            "Exception ignored in: <function _MultiProcessingDataLoaderIter.__del__ at 0x78427020acb0>\n",
            "Traceback (most recent call last):\n",
            "  File \"/usr/local/lib/python3.10/dist-packages/torch/utils/data/dataloader.py\", line 1478, in __del__\n",
            "    self._shutdown_workers()\n",
            "  File \"/usr/local/lib/python3.10/dist-packages/torch/utils/data/dataloader.py\", line 1461, in _shutdown_workers\n",
            "    if w.is_alive():\n",
            "  File \"/usr/lib/python3.10/multiprocessing/process.py\", line 160, in is_alive\n",
            "    assert self._parent_pid == os.getpid(), 'can only test a child process'\n",
            "AssertionError: can only test a child process\n",
            "Exception ignored in: <function _MultiProcessingDataLoaderIter.__del__ at 0x78427020acb0>\n",
            "Traceback (most recent call last):\n",
            "  File \"/usr/local/lib/python3.10/dist-packages/torch/utils/data/dataloader.py\", line 1478, in __del__\n",
            "    self._shutdown_workers()\n",
            "  File \"/usr/local/lib/python3.10/dist-packages/torch/utils/data/dataloader.py\", line 1461, in _shutdown_workers\n",
            "    if w.is_alive():\n",
            "  File \"/usr/lib/python3.10/multiprocessing/process.py\", line 160, in is_alive\n",
            "    assert self._parent_pid == os.getpid(), 'can only test a child process'\n",
            "AssertionError: can only test a child process\n",
            "Exception ignored in: <function _MultiProcessingDataLoaderIter.__del__ at 0x78427020acb0>\n",
            "Traceback (most recent call last):\n",
            "  File \"/usr/local/lib/python3.10/dist-packages/torch/utils/data/dataloader.py\", line 1478, in __del__\n",
            "    self._shutdown_workers()\n",
            "  File \"/usr/local/lib/python3.10/dist-packages/torch/utils/data/dataloader.py\", line 1461, in _shutdown_workers\n",
            "    if w.is_alive():\n",
            "  File \"/usr/lib/python3.10/multiprocessing/process.py\", line 160, in is_alive\n",
            "    assert self._parent_pid == os.getpid(), 'can only test a child process'\n",
            "AssertionError: can only test a child process\n",
            "Exception ignored in: <function _MultiProcessingDataLoaderIter.__del__ at 0x78427020acb0>\n",
            "Traceback (most recent call last):\n",
            "  File \"/usr/local/lib/python3.10/dist-packages/torch/utils/data/dataloader.py\", line 1478, in __del__\n",
            "    self._shutdown_workers()\n",
            "  File \"/usr/local/lib/python3.10/dist-packages/torch/utils/data/dataloader.py\", line 1461, in _shutdown_workers\n",
            "    if w.is_alive():\n",
            "  File \"/usr/lib/python3.10/multiprocessing/process.py\", line 160, in is_alive\n",
            "    assert self._parent_pid == os.getpid(), 'can only test a child process'\n",
            "AssertionError: can only test a child process\n"
          ]
        },
        {
          "output_type": "stream",
          "name": "stdout",
          "text": [
            "[0.49117824 0.4814862  0.44613206] [0.24773838 0.24419191 0.26171857]\n",
            "[0.49117824 0.4814862  0.44613206] [0.24773838 0.24419191 0.26171857]\n"
          ]
        }
      ],
      "source": [
        "# 計算normalization需要的mean & std\n",
        "def get_mean_std(dataset, ratio=0.3):\n",
        "    # Get mean and std by sample ratio\n",
        "    dataloader = torch.utils.data.DataLoader(dataset, batch_size=int(len(dataset)*ratio), shuffle=True, num_workers=2)\n",
        "\n",
        "    data = next(iter(dataloader))[0]     # get the first iteration data\n",
        "    mean = np.mean(data.numpy(), axis=(0,2,3))\n",
        "    std = np.std(data.numpy(), axis=(0,2,3))\n",
        "    return mean, std\n",
        "\n",
        "train_dataset = torchvision.datasets.CIFAR10(root='./data', train=True, download=True, transform=transforms.ToTensor())\n",
        "test_dataset = torchvision.datasets.CIFAR10(root='./data', train=False, download=True, transform=transforms.ToTensor())\n",
        "\n",
        "train_mean, train_std = get_mean_std(train_dataset)\n",
        "test_mean, test_std = train_mean, train_std\n",
        "print(train_mean, train_std)\n",
        "print(test_mean, test_std)"
      ]
    },
    {
      "cell_type": "code",
      "execution_count": null,
      "metadata": {
        "id": "5NGnL4rP6ofO"
      },
      "outputs": [],
      "source": [
        "# data augmentation & normalization\n",
        "transform_train = transforms.Compose([\n",
        "    # data augmentation\n",
        "    transforms.RandomHorizontalFlip(p=0.5),\n",
        "    transforms.RandomVerticalFlip(p=0.5),\n",
        "    transforms.RandomRotation(degrees=30),\n",
        "    transforms.RandomPerspective(distortion_scale=0.3, p=0.5),\n",
        "    transforms.ToTensor(),\n",
        "    # data normalization    # standardization: (image - train_mean) / train_std\n",
        "    transforms.Normalize(train_mean,train_std)\n",
        "])\n",
        "\n",
        "transform_test = transforms.Compose([\n",
        "    transforms.ToTensor(),\n",
        "    # data normalization    # standardization: (image - train_mean) / train_std\n",
        "    transforms.Normalize(test_mean,test_std)\n",
        "])"
      ]
    },
    {
      "cell_type": "code",
      "execution_count": null,
      "metadata": {
        "id": "oaJyYUXj6rNW",
        "colab": {
          "base_uri": "https://localhost:8080/"
        },
        "outputId": "283ec04d-9a34-46e3-f90a-a944e39d301c"
      },
      "outputs": [
        {
          "output_type": "stream",
          "name": "stdout",
          "text": [
            "Files already downloaded and verified\n",
            "Files already downloaded and verified\n",
            "train length:  45000\n",
            "val length:  5000\n",
            "test length:  10000\n"
          ]
        }
      ],
      "source": [
        "# dataset\n",
        "trainset = torchvision.datasets.CIFAR10(root='./data', train=True, download=True, transform=transform_train)\n",
        "test_ds = torchvision.datasets.CIFAR10(root='./data', train=False, download=True, transform=transform_test)\n",
        "\n",
        "# 檢查training dataset長怎麼樣\n",
        "#print(\"trainset length: \", len(trainset))\n",
        "#print(\"classes: \", trainset.classes)\n",
        "#image, label = trainset[0]\n",
        "#print(\"image shape: \", image.shape)\n",
        "#print(\"label: \", label)\n",
        "\n",
        "# Cifar-10的標籤: ('plane', 'car', 'bird', 'cat', 'deer', 'dog', 'frog', 'horse', 'ship', 'truck')\n",
        "\n",
        "# split validation dataset\n",
        "torch.manual_seed(43)     # 確保每次獲得相同的驗證集\n",
        "val_size = 5000       # 取5000張驗證集(0.1 of trainset)\n",
        "train_size = len(trainset) - val_size\n",
        "train_ds, val_ds = random_split(trainset, [train_size, val_size])\n",
        "print(\"train length: \", len(train_ds))\n",
        "print(\"val length: \", len(val_ds))\n",
        "print(\"test length: \", len(test_ds))\n",
        "\n",
        "trainloader = torch.utils.data.DataLoader(train_ds, batch_size=BATCH_SIZE, shuffle=True, num_workers=2)   #生成batch\n",
        "valloader = torch.utils.data.DataLoader(val_ds, batch_size=BATCH_SIZE, shuffle=False, num_workers=2)\n",
        "testloader = torch.utils.data.DataLoader(test_ds, batch_size=BATCH_SIZE, shuffle=False, num_workers=2)"
      ]
    },
    {
      "cell_type": "code",
      "source": [
        "# learning rate shedule\n",
        "def adjust_learning_rate(optim, epoch):\n",
        "    # define your lr scheduler\n",
        "\n",
        "\n",
        "    for param_group in optim.param_groups:\n",
        "        param_group['lr'] = lr"
      ],
      "metadata": {
        "id": "f4z6HKKiTU-7"
      },
      "execution_count": null,
      "outputs": []
    },
    {
      "cell_type": "code",
      "execution_count": null,
      "metadata": {
        "id": "WfBB9RKK6t8e",
        "colab": {
          "base_uri": "https://localhost:8080/"
        },
        "outputId": "24417ad0-384e-42a3-c4f4-367f1f41384d"
      },
      "outputs": [
        {
          "output_type": "stream",
          "name": "stdout",
          "text": [
            "\n",
            "Epoch: 1\n",
            "learning rate:  0.05\n",
            "Train loss: 1.858 | Train acc: 0.312\n",
            "Val loss: 1.793 | Val acc: 0.351\n",
            "\n",
            "Epoch: 2\n",
            "learning rate:  0.05\n",
            "Train loss: 1.513 | Train acc: 0.441\n",
            "Val loss: 1.726 | Val acc: 0.373\n",
            "\n",
            "Epoch: 3\n",
            "learning rate:  0.05\n",
            "Train loss: 1.347 | Train acc: 0.506\n",
            "Val loss: 1.256 | Val acc: 0.534\n",
            "\n",
            "Epoch: 4\n",
            "learning rate:  0.05\n",
            "Train loss: 1.203 | Train acc: 0.563\n",
            "Val loss: 1.377 | Val acc: 0.513\n",
            "\n",
            "Epoch: 5\n",
            "learning rate:  0.05\n",
            "Train loss: 1.119 | Train acc: 0.598\n",
            "Val loss: 1.335 | Val acc: 0.530\n",
            "\n",
            "Epoch: 6\n",
            "learning rate:  0.05\n",
            "Train loss: 1.042 | Train acc: 0.630\n",
            "Val loss: 1.107 | Val acc: 0.607\n",
            "\n",
            "Epoch: 7\n",
            "learning rate:  0.05\n",
            "Train loss: 0.989 | Train acc: 0.650\n",
            "Val loss: 1.074 | Val acc: 0.613\n",
            "\n",
            "Epoch: 8\n",
            "learning rate:  0.05\n",
            "Train loss: 0.941 | Train acc: 0.667\n",
            "Val loss: 1.019 | Val acc: 0.643\n",
            "\n",
            "Epoch: 9\n",
            "learning rate:  0.05\n",
            "Train loss: 0.900 | Train acc: 0.680\n",
            "Val loss: 0.992 | Val acc: 0.645\n",
            "\n",
            "Epoch: 10\n",
            "learning rate:  0.025\n",
            "Train loss: 0.856 | Train acc: 0.697\n",
            "Val loss: 0.903 | Val acc: 0.672\n",
            "\n",
            "Epoch: 11\n",
            "learning rate:  0.025\n",
            "Train loss: 0.728 | Train acc: 0.742\n",
            "Val loss: 0.789 | Val acc: 0.714\n",
            "\n",
            "Epoch: 12\n",
            "learning rate:  0.025\n",
            "Train loss: 0.697 | Train acc: 0.755\n",
            "Val loss: 0.726 | Val acc: 0.747\n",
            "\n",
            "Epoch: 13\n",
            "learning rate:  0.025\n",
            "Train loss: 0.678 | Train acc: 0.761\n",
            "Val loss: 0.756 | Val acc: 0.733\n",
            "\n",
            "Epoch: 14\n",
            "learning rate:  0.025\n",
            "Train loss: 0.657 | Train acc: 0.767\n",
            "Val loss: 0.776 | Val acc: 0.725\n",
            "\n",
            "Epoch: 15\n",
            "learning rate:  0.025\n",
            "Train loss: 0.644 | Train acc: 0.772\n",
            "Val loss: 0.743 | Val acc: 0.733\n",
            "\n",
            "Epoch: 16\n",
            "learning rate:  0.025\n",
            "Train loss: 0.629 | Train acc: 0.779\n",
            "Val loss: 0.828 | Val acc: 0.710\n",
            "\n",
            "Epoch: 17\n",
            "learning rate:  0.025\n",
            "Train loss: 0.614 | Train acc: 0.782\n",
            "Val loss: 0.738 | Val acc: 0.740\n",
            "\n",
            "Epoch: 18\n",
            "learning rate:  0.025\n",
            "Train loss: 0.602 | Train acc: 0.788\n",
            "Val loss: 0.742 | Val acc: 0.742\n",
            "\n",
            "Epoch: 19\n",
            "learning rate:  0.025\n",
            "Train loss: 0.584 | Train acc: 0.794\n",
            "Val loss: 0.698 | Val acc: 0.751\n",
            "\n",
            "Epoch: 20\n",
            "learning rate:  0.0125\n",
            "Train loss: 0.578 | Train acc: 0.797\n",
            "Val loss: 0.700 | Val acc: 0.752\n",
            "\n",
            "Epoch: 21\n",
            "learning rate:  0.0125\n",
            "Train loss: 0.485 | Train acc: 0.830\n",
            "Val loss: 0.559 | Val acc: 0.801\n",
            "\n",
            "Epoch: 22\n",
            "learning rate:  0.0125\n",
            "Train loss: 0.463 | Train acc: 0.838\n",
            "Val loss: 0.562 | Val acc: 0.799\n",
            "\n",
            "Epoch: 23\n",
            "learning rate:  0.0125\n",
            "Train loss: 0.452 | Train acc: 0.840\n",
            "Val loss: 0.580 | Val acc: 0.795\n",
            "\n",
            "Epoch: 24\n",
            "learning rate:  0.0125\n",
            "Train loss: 0.445 | Train acc: 0.845\n",
            "Val loss: 0.555 | Val acc: 0.805\n",
            "\n",
            "Epoch: 25\n",
            "learning rate:  0.0125\n",
            "Train loss: 0.433 | Train acc: 0.848\n",
            "Val loss: 0.530 | Val acc: 0.811\n",
            "\n",
            "Epoch: 26\n",
            "learning rate:  0.0125\n",
            "Train loss: 0.428 | Train acc: 0.849\n",
            "Val loss: 0.539 | Val acc: 0.812\n",
            "\n",
            "Epoch: 27\n",
            "learning rate:  0.0125\n",
            "Train loss: 0.423 | Train acc: 0.851\n",
            "Val loss: 0.526 | Val acc: 0.816\n",
            "\n",
            "Epoch: 28\n",
            "learning rate:  0.0125\n",
            "Train loss: 0.414 | Train acc: 0.855\n",
            "Val loss: 0.545 | Val acc: 0.811\n",
            "\n",
            "Epoch: 29\n",
            "learning rate:  0.0125\n",
            "Train loss: 0.415 | Train acc: 0.853\n",
            "Val loss: 0.568 | Val acc: 0.806\n",
            "\n",
            "Epoch: 30\n",
            "learning rate:  0.00625\n",
            "Train loss: 0.409 | Train acc: 0.857\n",
            "Val loss: 0.538 | Val acc: 0.811\n",
            "\n",
            "Epoch: 31\n",
            "learning rate:  0.00625\n",
            "Train loss: 0.341 | Train acc: 0.882\n",
            "Val loss: 0.444 | Val acc: 0.845\n",
            "\n",
            "Epoch: 32\n",
            "learning rate:  0.00625\n",
            "Train loss: 0.319 | Train acc: 0.888\n",
            "Val loss: 0.446 | Val acc: 0.842\n",
            "\n",
            "Epoch: 33\n",
            "learning rate:  0.00625\n",
            "Train loss: 0.312 | Train acc: 0.891\n",
            "Val loss: 0.448 | Val acc: 0.844\n",
            "\n",
            "Epoch: 34\n",
            "learning rate:  0.00625\n",
            "Train loss: 0.308 | Train acc: 0.892\n",
            "Val loss: 0.458 | Val acc: 0.841\n",
            "\n",
            "Epoch: 35\n",
            "learning rate:  0.00625\n",
            "Train loss: 0.303 | Train acc: 0.894\n",
            "Val loss: 0.446 | Val acc: 0.847\n",
            "\n",
            "Epoch: 36\n",
            "learning rate:  0.00625\n",
            "Train loss: 0.298 | Train acc: 0.895\n",
            "Val loss: 0.444 | Val acc: 0.845\n",
            "\n",
            "Epoch: 37\n",
            "learning rate:  0.00625\n",
            "Train loss: 0.290 | Train acc: 0.899\n",
            "Val loss: 0.457 | Val acc: 0.841\n",
            "\n",
            "Epoch: 38\n",
            "learning rate:  0.00625\n",
            "Train loss: 0.286 | Train acc: 0.899\n",
            "Val loss: 0.446 | Val acc: 0.849\n",
            "\n",
            "Epoch: 39\n",
            "learning rate:  0.00625\n",
            "Train loss: 0.283 | Train acc: 0.900\n",
            "Val loss: 0.480 | Val acc: 0.833\n",
            "\n",
            "Epoch: 40\n",
            "learning rate:  0.003125\n",
            "Train loss: 0.280 | Train acc: 0.901\n",
            "Val loss: 0.471 | Val acc: 0.841\n",
            "\n",
            "Epoch: 41\n",
            "learning rate:  0.003125\n",
            "Train loss: 0.234 | Train acc: 0.920\n",
            "Val loss: 0.399 | Val acc: 0.862\n",
            "\n",
            "Epoch: 42\n",
            "learning rate:  0.003125\n",
            "Train loss: 0.223 | Train acc: 0.923\n",
            "Val loss: 0.436 | Val acc: 0.849\n",
            "\n",
            "Epoch: 43\n",
            "learning rate:  0.003125\n",
            "Train loss: 0.213 | Train acc: 0.926\n",
            "Val loss: 0.420 | Val acc: 0.856\n",
            "\n",
            "Epoch: 44\n",
            "learning rate:  0.003125\n",
            "Train loss: 0.210 | Train acc: 0.926\n",
            "Val loss: 0.417 | Val acc: 0.859\n",
            "\n",
            "Epoch: 45\n",
            "learning rate:  0.003125\n",
            "Train loss: 0.206 | Train acc: 0.928\n",
            "Val loss: 0.410 | Val acc: 0.857\n",
            "\n",
            "Epoch: 46\n",
            "learning rate:  0.003125\n",
            "Train loss: 0.202 | Train acc: 0.930\n",
            "Val loss: 0.425 | Val acc: 0.860\n",
            "\n",
            "Epoch: 47\n",
            "learning rate:  0.003125\n",
            "Train loss: 0.197 | Train acc: 0.932\n",
            "Val loss: 0.430 | Val acc: 0.859\n",
            "\n",
            "Epoch: 48\n",
            "learning rate:  0.003125\n",
            "Train loss: 0.189 | Train acc: 0.934\n",
            "Val loss: 0.403 | Val acc: 0.867\n",
            "\n",
            "Epoch: 49\n",
            "learning rate:  0.003125\n",
            "Train loss: 0.187 | Train acc: 0.935\n",
            "Val loss: 0.431 | Val acc: 0.855\n",
            "\n",
            "Epoch: 50\n",
            "learning rate:  0.0015625\n",
            "Train loss: 0.188 | Train acc: 0.935\n",
            "Val loss: 0.453 | Val acc: 0.854\n",
            "\n",
            "Epoch: 51\n",
            "learning rate:  0.0015625\n",
            "Train loss: 0.161 | Train acc: 0.944\n",
            "Val loss: 0.387 | Val acc: 0.871\n",
            "\n",
            "Epoch: 52\n",
            "learning rate:  0.0015625\n",
            "Train loss: 0.157 | Train acc: 0.945\n",
            "Val loss: 0.397 | Val acc: 0.872\n",
            "\n",
            "Epoch: 53\n",
            "learning rate:  0.0015625\n",
            "Train loss: 0.149 | Train acc: 0.949\n",
            "Val loss: 0.415 | Val acc: 0.865\n",
            "\n",
            "Epoch: 54\n",
            "learning rate:  0.0015625\n",
            "Train loss: 0.145 | Train acc: 0.951\n",
            "Val loss: 0.396 | Val acc: 0.870\n",
            "\n",
            "Epoch: 55\n",
            "learning rate:  0.0015625\n",
            "Train loss: 0.143 | Train acc: 0.951\n",
            "Val loss: 0.401 | Val acc: 0.873\n",
            "Test loss: 0.317 | Test acc: 0.903\n"
          ]
        }
      ],
      "source": [
        "#是否pretrain\n",
        "net = ResNet(ResBlock).to(device)\n",
        "\n",
        "# 定義損失函數和優化方式\n",
        "criterion = nn.CrossEntropyLoss()  #loss function\n",
        "optimizer = optim.SGD(net.parameters(), lr=lr, momentum=0.9, weight_decay=5e-4) #優化方式為mini-batch momentum-SGD，採用L2正則化（權重衰減）\n",
        "schecdular = torch.optim.lr_scheduler.StepLR(optimizer,step_size=10,gamma=0.5,last_epoch=-1)\n",
        "# train\n",
        "if __name__ == \"__main__\":\n",
        "    train_loss, train_acc = [], []\n",
        "    val_loss, val_acc = [], []\n",
        "    for epoch in range(pre_epoch, EPOCH):\n",
        "        net.train()\n",
        "        sum1_loss, sum2_loss = 0.0, 0.0\n",
        "        correct = 0.0\n",
        "        total = 0.0\n",
        "        print('\\nEpoch: %d' % (epoch + 1))\n",
        "        for i, traindata in enumerate(trainloader, 0):\n",
        "            # prepare data\n",
        "            length = len(trainloader)\n",
        "            inputs, train_labels = traindata\n",
        "            inputs, train_labels = inputs.to(device), train_labels.to(device)\n",
        "            optimizer.zero_grad()\n",
        "\n",
        "            # forward + backward\n",
        "            train_outputs = net(inputs)\n",
        "            trainloss = criterion(train_outputs, train_labels)\n",
        "            trainloss.backward()\n",
        "            optimizer.step()\n",
        "\n",
        "            # 每訓練1個batch的loss和acc\n",
        "            sum1_loss += trainloss.item()\n",
        "            _, predicted = torch.max(train_outputs.data, 1)     # 取得分數最高的那個類 (outputs.data的index), train_outputs.data.shape is torch.Size([128, 10])\n",
        "            # print(torch.max(train_outputs.data, 1)[1])\n",
        "            total += train_labels.size(0)\n",
        "            correct += predicted.eq(train_labels.data).cpu().sum()\n",
        "\n",
        "\n",
        "        schecdular.step()\n",
        "        writer.add_scalar(\"lr\", optimizer.param_groups[0]['lr'], epoch)\n",
        "        # adjust_learning_rate(optimizer, epoch)\n",
        "        print(\"learning rate: \",  optimizer.param_groups[0]['lr'])\n",
        "\n",
        "        loss1 = sum1_loss / (i + 1) # i is equal to number of batches\n",
        "        acc1 = correct / total\n",
        "        print(\"Train loss: %.3f | Train acc: %.3f\" % (loss1, acc1))\n",
        "        train_loss.append(loss1)\n",
        "        train_acc.append(acc1.item())\n",
        "\n",
        "        # 每個epoch完用val驗證\n",
        "        with torch.no_grad():\n",
        "            correct = 0\n",
        "            total = 0\n",
        "            for j, valdata in enumerate(valloader, 0):\n",
        "                net.eval()\n",
        "                images, val_labels = valdata\n",
        "                images, val_labels = images.to(device), val_labels.to(device)\n",
        "                val_outputs = net(images)\n",
        "                valloss = criterion(val_outputs, val_labels)\n",
        "\n",
        "                sum2_loss += valloss.item()\n",
        "                _, predicted = torch.max(val_outputs.data, 1)\n",
        "                total += val_labels.size(0)\n",
        "                correct += (predicted == val_labels).sum()\n",
        "\n",
        "            loss2 = sum2_loss / (j + 1)\n",
        "            acc2 = correct / total\n",
        "            print(\"Val loss: %.3f | Val acc: %.3f\" % (loss2, acc2))\n",
        "            val_loss.append(loss2)\n",
        "            val_acc.append(acc2.item())\n",
        "\n",
        "    # 用test測試\n",
        "    with torch.no_grad():\n",
        "        correct = 0\n",
        "        total = 0\n",
        "        sum3_loss = 0.0\n",
        "        for k, testdata in enumerate(testloader, 0):\n",
        "            net.eval()\n",
        "            imgs, test_labels = testdata\n",
        "            imgs, test_labels = imgs.to(device), test_labels.to(device)\n",
        "            test_outputs = net(imgs)\n",
        "            testloss = criterion(test_outputs, test_labels)\n",
        "\n",
        "            sum3_loss += testloss.item()\n",
        "            _, predicted = torch.max(test_outputs.data, 1)\n",
        "            total += test_labels.size(0)\n",
        "            correct += (predicted == test_labels).sum()\n",
        "\n",
        "        loss3 = sum3_loss / (k + 1)\n",
        "        acc3 = correct / total\n",
        "        print(\"Test loss: %.3f | Test acc: %.3f\" % (loss3, acc3))"
      ]
    },
    {
      "cell_type": "code",
      "execution_count": 48,
      "metadata": {
        "id": "g-QShVIgmicX",
        "colab": {
          "base_uri": "https://localhost:8080/",
          "height": 927
        },
        "outputId": "bf755944-303d-415b-99d0-db350ea8611b"
      },
      "outputs": [
        {
          "output_type": "display_data",
          "data": {
            "text/plain": [
              "<Figure size 640x480 with 1 Axes>"
            ],
            "image/png": "[encoded data removed]"
          },
          "metadata": {}
        },
        {
          "output_type": "display_data",
          "data": {
            "text/plain": [
              "<Figure size 640x480 with 1 Axes>"
            ],
            "image/png": "[encoded data removed]"
          },
          "metadata": {}
        }
      ],
      "source": [
        "import matplotlib.pyplot as plt\n",
        "# plot accuracy curve\n",
        "plt.figure(0)\n",
        "plt.plot(range(1,EPOCH+1,1), np.array(train_acc), 'r-', label= \"train accuracy\")\n",
        "plt.plot(range(1,EPOCH+1,1), np.array(val_acc), 'b-', label= \"val accuracy\")\n",
        "plt.title(\"Accuracy\")\n",
        "plt.xlabel('epoch')\n",
        "plt.ylabel('accuracy')\n",
        "#plt.ylim(0.6, 1.1)\n",
        "plt.legend()\n",
        "plt.show()\n",
        "\n",
        "# plot loss curve\n",
        "plt.figure(1)\n",
        "plt.plot(range(1,EPOCH+1,1), np.array(train_loss), 'r-', label= \"train loss\")\n",
        "plt.plot(range(1,EPOCH+1,1), np.array(val_loss), 'b-', label= \"val loss\")\n",
        "plt.title(\"Loss\")\n",
        "plt.xlabel('epoch')\n",
        "plt.ylabel('loss')\n",
        "plt.legend()\n",
        "plt.show()"
      ]
    },
    {
      "cell_type": "code",
      "source": [],
      "metadata": {
        "id": "__GKVPPtQCLD"
      },
      "execution_count": null,
      "outputs": []
    }
  ],
  "metadata": {
    "accelerator": "GPU",
    "colab": {
      "provenance": []
    },
    "kernelspec": {
      "display_name": "Python 3",
      "name": "python3"
    },
    "language_info": {
      "name": "python"
    }
  },
  "nbformat": 4,
  "nbformat_minor": 0
}