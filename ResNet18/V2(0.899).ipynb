{
  "cells": [
    {
      "cell_type": "code",
      "execution_count": 1,
      "metadata": {
        "id": "ZWptM2AFfExI",
        "colab": {
          "base_uri": "https://localhost:8080/"
        },
        "outputId": "8f7aea14-9b47-4c36-b48c-ce12006ab304"
      },
      "outputs": [
        {
          "output_type": "stream",
          "name": "stdout",
          "text": [
            "Mounted at /content/drive\n"
          ]
        }
      ],
      "source": [
        "from google.colab import drive\n",
        "drive.mount('/content/drive')"
      ]
    },
    {
      "cell_type": "code",
      "execution_count": 2,
      "metadata": {
        "id": "i4xXb5NnfGdd",
        "colab": {
          "base_uri": "https://localhost:8080/"
        },
        "outputId": "f9a83b37-e6fd-4102-b18c-ee8f2fa9b611"
      },
      "outputs": [
        {
          "output_type": "stream",
          "name": "stdout",
          "text": [
            "/content/drive/MyDrive/EAI/Lab3\n"
          ]
        }
      ],
      "source": [
        "#change to your datapath\n",
        "%cd /content/drive/MyDrive/EAI/Lab3"
      ]
    },
    {
      "cell_type": "code",
      "execution_count": 3,
      "metadata": {
        "id": "uTY8C-LBhDTX"
      },
      "outputs": [],
      "source": [
        "import torch\n",
        "import torch.nn as nn\n",
        "import torch.nn.functional as F\n",
        "import torch.optim as optim\n",
        "import torchvision\n",
        "import torchvision.transforms as transforms\n",
        "import argparse\n",
        "import os\n",
        "import numpy as np\n",
        "from torch.utils.data import random_split\n",
        "from torch.utils.tensorboard import SummaryWriter\n",
        "from torchsummary import summary\n",
        "from resnet18 import *"
      ]
    },
    {
      "cell_type": "code",
      "execution_count": 4,
      "metadata": {
        "id": "io7k6zHGb1OJ"
      },
      "outputs": [],
      "source": [
        "# Create SummaryWriter\n",
        "writer = SummaryWriter(\"../tensorboard\")"
      ]
    },
    {
      "cell_type": "code",
      "execution_count": 5,
      "metadata": {
        "id": "oqc_D_uEhc1O",
        "colab": {
          "base_uri": "https://localhost:8080/"
        },
        "outputId": "df83ba9a-2cda-458e-9660-7b9b5aa596cf"
      },
      "outputs": [
        {
          "output_type": "stream",
          "name": "stdout",
          "text": [
            "True\n"
          ]
        }
      ],
      "source": [
        "#檢查是否可用gpu\n",
        "print(torch.cuda.is_available())"
      ]
    },
    {
      "cell_type": "code",
      "execution_count": 6,
      "metadata": {
        "id": "CrsS13SChs9b"
      },
      "outputs": [],
      "source": [
        "# setting parameter\n",
        "EPOCH = 55\n",
        "pre_epoch = 0\n",
        "BATCH_SIZE = 128\n",
        "lr = 0.05\n",
        "device = torch.device(\"cuda\")"
      ]
    },
    {
      "cell_type": "code",
      "execution_count": 7,
      "metadata": {
        "id": "3LzusjVfhxJ3",
        "colab": {
          "base_uri": "https://localhost:8080/"
        },
        "outputId": "4477f07a-0fa1-4549-db2f-d1b94525ccec"
      },
      "outputs": [
        {
          "output_type": "stream",
          "name": "stdout",
          "text": [
            "Files already downloaded and verified\n",
            "Files already downloaded and verified\n",
            "[0.49095774 0.48170456 0.44640818] [0.24712197 0.24352506 0.26153293]\n",
            "[0.49095774 0.48170456 0.44640818] [0.24712197 0.24352506 0.26153293]\n"
          ]
        }
      ],
      "source": [
        "# 計算normalization需要的mean & std\n",
        "def get_mean_std(dataset, ratio=0.3):\n",
        "    # Get mean and std by sample ratio\n",
        "    dataloader = torch.utils.data.DataLoader(dataset, batch_size=int(len(dataset)*ratio), shuffle=True, num_workers=2)\n",
        "\n",
        "    data = next(iter(dataloader))[0]     # get the first iteration data\n",
        "    mean = np.mean(data.numpy(), axis=(0,2,3))\n",
        "    std = np.std(data.numpy(), axis=(0,2,3))\n",
        "    return mean, std\n",
        "\n",
        "train_dataset = torchvision.datasets.CIFAR10(root='./data', train=True, download=True, transform=transforms.ToTensor())\n",
        "test_dataset = torchvision.datasets.CIFAR10(root='./data', train=False, download=True, transform=transforms.ToTensor())\n",
        "\n",
        "train_mean, train_std = get_mean_std(train_dataset)\n",
        "test_mean, test_std = train_mean, train_std\n",
        "print(train_mean, train_std)\n",
        "print(test_mean, test_std)"
      ]
    },
    {
      "cell_type": "code",
      "execution_count": 8,
      "metadata": {
        "id": "5NGnL4rP6ofO"
      },
      "outputs": [],
      "source": [
        "# data augmentation & normalization\n",
        "transform_train = transforms.Compose([\n",
        "    # data augmentation\n",
        "    transforms.RandomHorizontalFlip(p=0.5),\n",
        "    transforms.RandomVerticalFlip(p=0.5),\n",
        "    transforms.RandomRotation(degrees=30),\n",
        "    transforms.RandomPerspective(distortion_scale=0.3, p=0.5),\n",
        "    transforms.ToTensor(),\n",
        "    # data normalization    # standardization: (image - train_mean) / train_std\n",
        "    transforms.Normalize(train_mean,train_std)\n",
        "])\n",
        "\n",
        "transform_test = transforms.Compose([\n",
        "    transforms.ToTensor(),\n",
        "    # data normalization    # standardization: (image - train_mean) / train_std\n",
        "    transforms.Normalize(test_mean,test_std)\n",
        "])"
      ]
    },
    {
      "cell_type": "code",
      "source": [
        "def show_transformed_images(transform, x):\n",
        "    plt.figure(figsize=(12, 2))\n",
        "    for i in range(5):\n",
        "        output_image = transform(x)\n",
        "        plt.subplot(1, 5, i+1)\n",
        "        plt.imshow(output_image)"
      ],
      "metadata": {
        "id": "JPKkdly5j4td"
      },
      "execution_count": 9,
      "outputs": []
    },
    {
      "cell_type": "code",
      "execution_count": 10,
      "metadata": {
        "id": "oaJyYUXj6rNW",
        "colab": {
          "base_uri": "https://localhost:8080/"
        },
        "outputId": "a0544b13-806e-44e0-9043-302bad942137"
      },
      "outputs": [
        {
          "output_type": "stream",
          "name": "stdout",
          "text": [
            "Files already downloaded and verified\n",
            "Files already downloaded and verified\n",
            "train length:  45000\n",
            "val length:  5000\n",
            "test length:  10000\n"
          ]
        }
      ],
      "source": [
        "# dataset\n",
        "trainset = torchvision.datasets.CIFAR10(root='./data', train=True, download=True, transform=transform_train)\n",
        "test_ds = torchvision.datasets.CIFAR10(root='./data', train=False, download=True, transform=transform_test)\n",
        "\n",
        "# 檢查training dataset長怎麼樣\n",
        "#print(\"trainset length: \", len(trainset))\n",
        "#print(\"classes: \", trainset.classes)\n",
        "#image, label = trainset[0]\n",
        "#print(\"image shape: \", image.shape)\n",
        "#print(\"label: \", label)\n",
        "\n",
        "# Cifar-10的標籤: ('plane', 'car', 'bird', 'cat', 'deer', 'dog', 'frog', 'horse', 'ship', 'truck')\n",
        "\n",
        "# split validation dataset\n",
        "torch.manual_seed(43)     # 確保每次獲得相同的驗證集\n",
        "val_size = 5000       # 取5000張驗證集(0.1 of trainset)\n",
        "train_size = len(trainset) - val_size\n",
        "train_ds, val_ds = random_split(trainset, [train_size, val_size])\n",
        "print(\"train length: \", len(train_ds))\n",
        "print(\"val length: \", len(val_ds))\n",
        "print(\"test length: \", len(test_ds))\n",
        "\n",
        "trainloader = torch.utils.data.DataLoader(train_ds, batch_size=BATCH_SIZE, shuffle=True, num_workers=2)   #生成batch\n",
        "valloader = torch.utils.data.DataLoader(val_ds, batch_size=BATCH_SIZE, shuffle=False, num_workers=2)\n",
        "testloader = torch.utils.data.DataLoader(test_ds, batch_size=BATCH_SIZE, shuffle=False, num_workers=2)"
      ]
    },
    {
      "cell_type": "code",
      "source": [
        "# learning rate shedule\n",
        "def adjust_learning_rate(optim, epoch):\n",
        "    # define your lr scheduler\n",
        "    if epoch % 2 == 0:\n",
        "      optimizer.param_groups[0]['lr'] += optimizer.param_groups[0]['lr']*0.2\n",
        "    else:\n",
        "      optimizer.param_groups[0]['lr'] -= optimizer.param_groups[0]['lr']*0.2\n",
        "    # for param_group in optim.param_groups:\n",
        "    #     param_group['lr'] = lr"
      ],
      "metadata": {
        "id": "f4z6HKKiTU-7"
      },
      "execution_count": 11,
      "outputs": []
    },
    {
      "cell_type": "code",
      "execution_count": 12,
      "metadata": {
        "id": "WfBB9RKK6t8e",
        "colab": {
          "base_uri": "https://localhost:8080/"
        },
        "outputId": "5b849dad-e0be-4fe1-c47e-59df9a10f87c"
      },
      "outputs": [
        {
          "output_type": "stream",
          "name": "stdout",
          "text": [
            "\n",
            "Epoch: 1\n",
            "learning rate:  0.060000000000000005\n",
            "Train loss: 1.813 | Train acc: 0.329\n",
            "Val loss: 1.628 | Val acc: 0.388\n",
            "\n",
            "Epoch: 2\n",
            "learning rate:  0.048\n",
            "Train loss: 1.506 | Train acc: 0.446\n",
            "Val loss: 1.514 | Val acc: 0.439\n",
            "\n",
            "Epoch: 3\n",
            "learning rate:  0.0576\n",
            "Train loss: 1.313 | Train acc: 0.523\n",
            "Val loss: 1.306 | Val acc: 0.527\n",
            "\n",
            "Epoch: 4\n",
            "learning rate:  0.046079999999999996\n",
            "Train loss: 1.198 | Train acc: 0.569\n",
            "Val loss: 1.236 | Val acc: 0.553\n",
            "\n",
            "Epoch: 5\n",
            "learning rate:  0.055296\n",
            "Train loss: 1.085 | Train acc: 0.611\n",
            "Val loss: 1.232 | Val acc: 0.554\n",
            "\n",
            "Epoch: 6\n",
            "learning rate:  0.0442368\n",
            "Train loss: 1.046 | Train acc: 0.626\n",
            "Val loss: 1.079 | Val acc: 0.610\n",
            "\n",
            "Epoch: 7\n",
            "learning rate:  0.05308416\n",
            "Train loss: 0.962 | Train acc: 0.657\n",
            "Val loss: 1.050 | Val acc: 0.620\n",
            "\n",
            "Epoch: 8\n",
            "learning rate:  0.042467328\n",
            "Train loss: 0.941 | Train acc: 0.666\n",
            "Val loss: 1.029 | Val acc: 0.632\n",
            "\n",
            "Epoch: 9\n",
            "learning rate:  0.0509607936\n",
            "Train loss: 0.859 | Train acc: 0.695\n",
            "Val loss: 0.877 | Val acc: 0.685\n",
            "\n",
            "Epoch: 10\n",
            "learning rate:  0.02038431744\n",
            "Train loss: 0.848 | Train acc: 0.701\n",
            "Val loss: 0.972 | Val acc: 0.659\n",
            "\n",
            "Epoch: 11\n",
            "learning rate:  0.024461180928000002\n",
            "Train loss: 0.703 | Train acc: 0.750\n",
            "Val loss: 0.746 | Val acc: 0.735\n",
            "\n",
            "Epoch: 12\n",
            "learning rate:  0.0195689447424\n",
            "Train loss: 0.683 | Train acc: 0.763\n",
            "Val loss: 0.732 | Val acc: 0.739\n",
            "\n",
            "Epoch: 13\n",
            "learning rate:  0.02348273369088\n",
            "Train loss: 0.643 | Train acc: 0.774\n",
            "Val loss: 0.720 | Val acc: 0.746\n",
            "\n",
            "Epoch: 14\n",
            "learning rate:  0.018786186952704002\n",
            "Train loss: 0.643 | Train acc: 0.771\n",
            "Val loss: 0.788 | Val acc: 0.727\n",
            "\n",
            "Epoch: 15\n",
            "learning rate:  0.022543424343244804\n",
            "Train loss: 0.604 | Train acc: 0.786\n",
            "Val loss: 0.738 | Val acc: 0.736\n",
            "\n",
            "Epoch: 16\n",
            "learning rate:  0.018034739474595843\n",
            "Train loss: 0.615 | Train acc: 0.784\n",
            "Val loss: 0.734 | Val acc: 0.743\n",
            "\n",
            "Epoch: 17\n",
            "learning rate:  0.021641687369515012\n",
            "Train loss: 0.571 | Train acc: 0.799\n",
            "Val loss: 0.664 | Val acc: 0.766\n",
            "\n",
            "Epoch: 18\n",
            "learning rate:  0.01731334989561201\n",
            "Train loss: 0.582 | Train acc: 0.796\n",
            "Val loss: 0.714 | Val acc: 0.752\n",
            "\n",
            "Epoch: 19\n",
            "learning rate:  0.020776019874734413\n",
            "Train loss: 0.536 | Train acc: 0.811\n",
            "Val loss: 0.628 | Val acc: 0.781\n",
            "\n",
            "Epoch: 20\n",
            "learning rate:  0.008310407949893765\n",
            "Train loss: 0.551 | Train acc: 0.807\n",
            "Val loss: 0.661 | Val acc: 0.771\n",
            "\n",
            "Epoch: 21\n",
            "learning rate:  0.009972489539872518\n",
            "Train loss: 0.455 | Train acc: 0.841\n",
            "Val loss: 0.542 | Val acc: 0.809\n",
            "\n",
            "Epoch: 22\n",
            "learning rate:  0.007977991631898013\n",
            "Train loss: 0.446 | Train acc: 0.846\n",
            "Val loss: 0.543 | Val acc: 0.804\n",
            "\n",
            "Epoch: 23\n",
            "learning rate:  0.009573589958277616\n",
            "Train loss: 0.419 | Train acc: 0.855\n",
            "Val loss: 0.526 | Val acc: 0.817\n",
            "\n",
            "Epoch: 24\n",
            "learning rate:  0.0076588719666220925\n",
            "Train loss: 0.424 | Train acc: 0.850\n",
            "Val loss: 0.519 | Val acc: 0.819\n",
            "\n",
            "Epoch: 25\n",
            "learning rate:  0.00919064635994651\n",
            "Train loss: 0.396 | Train acc: 0.862\n",
            "Val loss: 0.509 | Val acc: 0.817\n",
            "\n",
            "Epoch: 26\n",
            "learning rate:  0.007352517087957209\n",
            "Train loss: 0.404 | Train acc: 0.856\n",
            "Val loss: 0.542 | Val acc: 0.810\n",
            "\n",
            "Epoch: 27\n",
            "learning rate:  0.00882302050554865\n",
            "Train loss: 0.379 | Train acc: 0.868\n",
            "Val loss: 0.490 | Val acc: 0.829\n",
            "\n",
            "Epoch: 28\n",
            "learning rate:  0.00705841640443892\n",
            "Train loss: 0.387 | Train acc: 0.863\n",
            "Val loss: 0.492 | Val acc: 0.831\n",
            "\n",
            "Epoch: 29\n",
            "learning rate:  0.008470099685326705\n",
            "Train loss: 0.363 | Train acc: 0.873\n",
            "Val loss: 0.502 | Val acc: 0.824\n",
            "\n",
            "Epoch: 30\n",
            "learning rate:  0.003388039874130682\n",
            "Train loss: 0.375 | Train acc: 0.869\n",
            "Val loss: 0.511 | Val acc: 0.821\n",
            "\n",
            "Epoch: 31\n",
            "learning rate:  0.004065647848956818\n",
            "Train loss: 0.316 | Train acc: 0.890\n",
            "Val loss: 0.418 | Val acc: 0.861\n",
            "\n",
            "Epoch: 32\n",
            "learning rate:  0.003252518279165455\n",
            "Train loss: 0.300 | Train acc: 0.895\n",
            "Val loss: 0.435 | Val acc: 0.849\n",
            "\n",
            "Epoch: 33\n",
            "learning rate:  0.003903021934998546\n",
            "Train loss: 0.287 | Train acc: 0.901\n",
            "Val loss: 0.429 | Val acc: 0.849\n",
            "\n",
            "Epoch: 34\n",
            "learning rate:  0.003122417547998837\n",
            "Train loss: 0.287 | Train acc: 0.900\n",
            "Val loss: 0.451 | Val acc: 0.853\n",
            "\n",
            "Epoch: 35\n",
            "learning rate:  0.0037469010575986042\n",
            "Train loss: 0.270 | Train acc: 0.903\n",
            "Val loss: 0.427 | Val acc: 0.856\n",
            "\n",
            "Epoch: 36\n",
            "learning rate:  0.002997520846078883\n",
            "Train loss: 0.271 | Train acc: 0.905\n",
            "Val loss: 0.444 | Val acc: 0.847\n",
            "\n",
            "Epoch: 37\n",
            "learning rate:  0.00359702501529466\n",
            "Train loss: 0.258 | Train acc: 0.910\n",
            "Val loss: 0.418 | Val acc: 0.856\n",
            "\n",
            "Epoch: 38\n",
            "learning rate:  0.002877620012235728\n",
            "Train loss: 0.260 | Train acc: 0.910\n",
            "Val loss: 0.438 | Val acc: 0.850\n",
            "\n",
            "Epoch: 39\n",
            "learning rate:  0.003453144014682874\n",
            "Train loss: 0.243 | Train acc: 0.915\n",
            "Val loss: 0.438 | Val acc: 0.853\n",
            "\n",
            "Epoch: 40\n",
            "learning rate:  0.0013812576058731495\n",
            "Train loss: 0.248 | Train acc: 0.914\n",
            "Val loss: 0.448 | Val acc: 0.846\n",
            "\n",
            "Epoch: 41\n",
            "learning rate:  0.0016575091270477794\n",
            "Train loss: 0.218 | Train acc: 0.924\n",
            "Val loss: 0.406 | Val acc: 0.864\n",
            "\n",
            "Epoch: 42\n",
            "learning rate:  0.0013260073016382234\n",
            "Train loss: 0.209 | Train acc: 0.928\n",
            "Val loss: 0.428 | Val acc: 0.855\n",
            "\n",
            "Epoch: 43\n",
            "learning rate:  0.0015912087619658682\n",
            "Train loss: 0.203 | Train acc: 0.930\n",
            "Val loss: 0.405 | Val acc: 0.863\n",
            "\n",
            "Epoch: 44\n",
            "learning rate:  0.0012729670095726945\n",
            "Train loss: 0.199 | Train acc: 0.933\n",
            "Val loss: 0.422 | Val acc: 0.864\n",
            "\n",
            "Epoch: 45\n",
            "learning rate:  0.0015275604114872335\n",
            "Train loss: 0.196 | Train acc: 0.932\n",
            "Val loss: 0.406 | Val acc: 0.858\n",
            "\n",
            "Epoch: 46\n",
            "learning rate:  0.0012220483291897869\n",
            "Train loss: 0.194 | Train acc: 0.934\n",
            "Val loss: 0.396 | Val acc: 0.865\n",
            "\n",
            "Epoch: 47\n",
            "learning rate:  0.0014664579950277442\n",
            "Train loss: 0.187 | Train acc: 0.934\n",
            "Val loss: 0.423 | Val acc: 0.865\n",
            "\n",
            "Epoch: 48\n",
            "learning rate:  0.0011731663960221953\n",
            "Train loss: 0.182 | Train acc: 0.937\n",
            "Val loss: 0.418 | Val acc: 0.860\n",
            "\n",
            "Epoch: 49\n",
            "learning rate:  0.0014077996752266343\n",
            "Train loss: 0.176 | Train acc: 0.939\n",
            "Val loss: 0.420 | Val acc: 0.861\n",
            "\n",
            "Epoch: 50\n",
            "learning rate:  0.0005631198700906538\n",
            "Train loss: 0.177 | Train acc: 0.939\n",
            "Val loss: 0.427 | Val acc: 0.862\n",
            "\n",
            "Epoch: 51\n",
            "learning rate:  0.0006757438441087845\n",
            "Train loss: 0.164 | Train acc: 0.944\n",
            "Val loss: 0.394 | Val acc: 0.870\n",
            "\n",
            "Epoch: 52\n",
            "learning rate:  0.0005405950752870276\n",
            "Train loss: 0.166 | Train acc: 0.943\n",
            "Val loss: 0.402 | Val acc: 0.867\n",
            "\n",
            "Epoch: 53\n",
            "learning rate:  0.0006487140903444332\n",
            "Train loss: 0.155 | Train acc: 0.948\n",
            "Val loss: 0.400 | Val acc: 0.866\n",
            "\n",
            "Epoch: 54\n",
            "learning rate:  0.0005189712722755465\n",
            "Train loss: 0.155 | Train acc: 0.947\n",
            "Val loss: 0.392 | Val acc: 0.870\n",
            "\n",
            "Epoch: 55\n",
            "learning rate:  0.0006227655267306558\n",
            "Train loss: 0.154 | Train acc: 0.948\n",
            "Val loss: 0.416 | Val acc: 0.866\n",
            "Test loss: 0.317 | Test acc: 0.899\n"
          ]
        }
      ],
      "source": [
        "#是否pretrain\n",
        "net = ResNet(ResBlock).to(device)\n",
        "\n",
        "# 定義損失函數和優化方式\n",
        "criterion = nn.CrossEntropyLoss()  #loss function\n",
        "optimizer = optim.SGD(net.parameters(), lr=lr, momentum=0.9, weight_decay=5e-4) #優化方式為mini-batch momentum-SGD，採用L2正則化（權重衰減）\n",
        "schecdular = torch.optim.lr_scheduler.StepLR(optimizer,step_size=10,gamma=0.5,last_epoch=-1)\n",
        "# train\n",
        "if __name__ == \"__main__\":\n",
        "    train_loss, train_acc = [], []\n",
        "    val_loss, val_acc = [], []\n",
        "    for epoch in range(pre_epoch, EPOCH):\n",
        "        net.train()\n",
        "        sum1_loss, sum2_loss = 0.0, 0.0\n",
        "        correct = 0.0\n",
        "        total = 0.0\n",
        "        print('\\nEpoch: %d' % (epoch + 1))\n",
        "        for i, traindata in enumerate(trainloader, 0):\n",
        "            # prepare data\n",
        "            length = len(trainloader)\n",
        "            inputs, train_labels = traindata\n",
        "            inputs, train_labels = inputs.to(device), train_labels.to(device)\n",
        "            optimizer.zero_grad()\n",
        "\n",
        "            # forward + backward\n",
        "            train_outputs = net(inputs)\n",
        "            trainloss = criterion(train_outputs, train_labels)\n",
        "            trainloss.backward()\n",
        "            optimizer.step()\n",
        "\n",
        "            # 每訓練1個batch的loss和acc\n",
        "            sum1_loss += trainloss.item()\n",
        "            _, predicted = torch.max(train_outputs.data, 1)     # 取得分數最高的那個類 (outputs.data的index), train_outputs.data.shape is torch.Size([128, 10])\n",
        "            # print(torch.max(train_outputs.data, 1)[1])\n",
        "            total += train_labels.size(0)\n",
        "            correct += predicted.eq(train_labels.data).cpu().sum()\n",
        "\n",
        "\n",
        "        schecdular.step()\n",
        "        writer.add_scalar(\"lr\", optimizer.param_groups[0]['lr'], epoch)\n",
        "        adjust_learning_rate(optimizer, epoch)\n",
        "        print(\"learning rate: \",  optimizer.param_groups[0]['lr'])\n",
        "\n",
        "        loss1 = sum1_loss / (i + 1) # i is equal to number of batches\n",
        "        acc1 = correct / total\n",
        "        print(\"Train loss: %.3f | Train acc: %.3f\" % (loss1, acc1))\n",
        "        train_loss.append(loss1)\n",
        "        train_acc.append(acc1.item())\n",
        "\n",
        "        # 每個epoch完用val驗證\n",
        "        with torch.no_grad():\n",
        "            correct = 0\n",
        "            total = 0\n",
        "            for j, valdata in enumerate(valloader, 0):\n",
        "                net.eval()\n",
        "                images, val_labels = valdata\n",
        "                images, val_labels = images.to(device), val_labels.to(device)\n",
        "                val_outputs = net(images)\n",
        "                valloss = criterion(val_outputs, val_labels)\n",
        "\n",
        "                sum2_loss += valloss.item()\n",
        "                _, predicted = torch.max(val_outputs.data, 1)\n",
        "                total += val_labels.size(0)\n",
        "                correct += (predicted == val_labels).sum()\n",
        "\n",
        "            loss2 = sum2_loss / (j + 1)\n",
        "            acc2 = correct / total\n",
        "            print(\"Val loss: %.3f | Val acc: %.3f\" % (loss2, acc2))\n",
        "            val_loss.append(loss2)\n",
        "            val_acc.append(acc2.item())\n",
        "\n",
        "    # 用test測試\n",
        "    with torch.no_grad():\n",
        "        correct = 0\n",
        "        total = 0\n",
        "        sum3_loss = 0.0\n",
        "        for k, testdata in enumerate(testloader, 0):\n",
        "            net.eval()\n",
        "            imgs, test_labels = testdata\n",
        "            imgs, test_labels = imgs.to(device), test_labels.to(device)\n",
        "            test_outputs = net(imgs)\n",
        "            testloss = criterion(test_outputs, test_labels)\n",
        "\n",
        "            sum3_loss += testloss.item()\n",
        "            _, predicted = torch.max(test_outputs.data, 1)\n",
        "            total += test_labels.size(0)\n",
        "            correct += (predicted == test_labels).sum()\n",
        "\n",
        "        loss3 = sum3_loss / (k + 1)\n",
        "        acc3 = correct / total\n",
        "        print(\"Test loss: %.3f | Test acc: %.3f\" % (loss3, acc3))"
      ]
    },
    {
      "cell_type": "code",
      "execution_count": 14,
      "metadata": {
        "id": "g-QShVIgmicX",
        "colab": {
          "base_uri": "https://localhost:8080/",
          "height": 927
        },
        "outputId": "0ac10d31-1c96-4f6d-de52-3a58a6bd24ed"
      },
      "outputs": [
        {
          "output_type": "display_data",
          "data": {
            "text/plain": [
              "<Figure size 640x480 with 1 Axes>"
            ],
            "image/png": "[encoded data removed]"
          },
          "metadata": {}
        },
        {
          "output_type": "display_data",
          "data": {
            "text/plain": [
              "<Figure size 640x480 with 1 Axes>"
            ],
            "image/png": "[encoded data removed]"
          },
          "metadata": {}
        }
      ],
      "source": [
        "import matplotlib.pyplot as plt\n",
        "# plot accuracy curve\n",
        "plt.figure(0)\n",
        "plt.plot(range(1,EPOCH+1,1), np.array(train_acc), 'r-', label= \"train accuracy\")\n",
        "plt.plot(range(1,EPOCH+1,1), np.array(val_acc), 'b-', label= \"val accuracy\")\n",
        "plt.title(\"Accuracy\")\n",
        "plt.xlabel('epoch')\n",
        "plt.ylabel('accuracy')\n",
        "#plt.ylim(0.6, 1.1)\n",
        "plt.legend()\n",
        "plt.show()\n",
        "\n",
        "# plot loss curve\n",
        "plt.figure(1)\n",
        "plt.plot(range(1,EPOCH+1,1), np.array(train_loss), 'r-', label= \"train loss\")\n",
        "plt.plot(range(1,EPOCH+1,1), np.array(val_loss), 'b-', label= \"val loss\")\n",
        "plt.title(\"Loss\")\n",
        "plt.xlabel('epoch')\n",
        "plt.ylabel('loss')\n",
        "plt.legend()\n",
        "plt.show()"
      ]
    },
    {
      "cell_type": "code",
      "source": [],
      "metadata": {
        "id": "__GKVPPtQCLD"
      },
      "execution_count": 13,
      "outputs": []
    }
  ],
  "metadata": {
    "accelerator": "GPU",
    "colab": {
      "provenance": []
    },
    "kernelspec": {
      "display_name": "Python 3",
      "name": "python3"
    },
    "language_info": {
      "name": "python"
    }
  },
  "nbformat": 4,
  "nbformat_minor": 0
}