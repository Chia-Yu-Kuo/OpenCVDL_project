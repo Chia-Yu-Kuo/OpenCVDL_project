{
  "cells": [
    {
      "cell_type": "code",
      "execution_count": 1,
      "metadata": {
        "id": "ZWptM2AFfExI",
        "colab": {
          "base_uri": "https://localhost:8080/"
        },
        "outputId": "8f7aea14-9b47-4c36-b48c-ce12006ab304"
      },
      "outputs": [
        {
          "output_type": "stream",
          "name": "stdout",
          "text": [
            "Mounted at /content/drive\n"
          ]
        }
      ],
      "source": [
        "from google.colab import drive\n",
        "drive.mount('/content/drive')"
      ]
    },
    {
      "cell_type": "code",
      "execution_count": 2,
      "metadata": {
        "id": "i4xXb5NnfGdd",
        "colab": {
          "base_uri": "https://localhost:8080/"
        },
        "outputId": "f9a83b37-e6fd-4102-b18c-ee8f2fa9b611"
      },
      "outputs": [
        {
          "output_type": "stream",
          "name": "stdout",
          "text": [
            "/content/drive/MyDrive/EAI/Lab3\n"
          ]
        }
      ],
      "source": [
        "#change to your datapath\n",
        "%cd /content/drive/MyDrive/EAI/Lab3"
      ]
    },
    {
      "cell_type": "code",
      "execution_count": 3,
      "metadata": {
        "id": "uTY8C-LBhDTX"
      },
      "outputs": [],
      "source": [
        "import torch\n",
        "import torch.nn as nn\n",
        "import torch.nn.functional as F\n",
        "import torch.optim as optim\n",
        "import torchvision\n",
        "import torchvision.transforms as transforms\n",
        "import argparse\n",
        "import os\n",
        "import numpy as np\n",
        "from torch.utils.data import random_split\n",
        "from torch.utils.tensorboard import SummaryWriter\n",
        "from torchsummary import summary\n",
        "from resnet18 import *"
      ]
    },
    {
      "cell_type": "code",
      "execution_count": 4,
      "metadata": {
        "id": "io7k6zHGb1OJ"
      },
      "outputs": [],
      "source": [
        "# Create SummaryWriter\n",
        "writer = SummaryWriter(\"../tensorboard\")"
      ]
    },
    {
      "cell_type": "code",
      "execution_count": 5,
      "metadata": {
        "id": "oqc_D_uEhc1O",
        "colab": {
          "base_uri": "https://localhost:8080/"
        },
        "outputId": "df83ba9a-2cda-458e-9660-7b9b5aa596cf"
      },
      "outputs": [
        {
          "output_type": "stream",
          "name": "stdout",
          "text": [
            "True\n"
          ]
        }
      ],
      "source": [
        "#檢查是否可用gpu\n",
        "print(torch.cuda.is_available())"
      ]
    },
    {
      "cell_type": "code",
      "execution_count": 6,
      "metadata": {
        "id": "CrsS13SChs9b"
      },
      "outputs": [],
      "source": [
        "# setting parameter\n",
        "EPOCH = 55\n",
        "pre_epoch = 0\n",
        "BATCH_SIZE = 128\n",
        "lr = 0.05\n",
        "device = torch.device(\"cuda\")"
      ]
    },
    {
      "cell_type": "code",
      "execution_count": 7,
      "metadata": {
        "id": "3LzusjVfhxJ3",
        "colab": {
          "base_uri": "https://localhost:8080/"
        },
        "outputId": "4477f07a-0fa1-4549-db2f-d1b94525ccec"
      },
      "outputs": [
        {
          "output_type": "stream",
          "name": "stdout",
          "text": [
            "Files already downloaded and verified\n",
            "Files already downloaded and verified\n",
            "[0.49095774 0.48170456 0.44640818] [0.24712197 0.24352506 0.26153293]\n",
            "[0.49095774 0.48170456 0.44640818] [0.24712197 0.24352506 0.26153293]\n"
          ]
        }
      ],
      "source": [
        "# 計算normalization需要的mean & std\n",
        "def get_mean_std(dataset, ratio=0.3):\n",
        "    # Get mean and std by sample ratio\n",
        "    dataloader = torch.utils.data.DataLoader(dataset, batch_size=int(len(dataset)*ratio), shuffle=True, num_workers=2)\n",
        "\n",
        "    data = next(iter(dataloader))[0]     # get the first iteration data\n",
        "    mean = np.mean(data.numpy(), axis=(0,2,3))\n",
        "    std = np.std(data.numpy(), axis=(0,2,3))\n",
        "    return mean, std\n",
        "\n",
        "train_dataset = torchvision.datasets.CIFAR10(root='./data', train=True, download=True, transform=transforms.ToTensor())\n",
        "test_dataset = torchvision.datasets.CIFAR10(root='./data', train=False, download=True, transform=transforms.ToTensor())\n",
        "\n",
        "train_mean, train_std = get_mean_std(train_dataset)\n",
        "test_mean, test_std = train_mean, train_std\n",
        "print(train_mean, train_std)\n",
        "print(test_mean, test_std)"
      ]
    },
    {
      "cell_type": "code",
      "execution_count": 8,
      "metadata": {
        "id": "5NGnL4rP6ofO"
      },
      "outputs": [],
      "source": [
        "# data augmentation & normalization\n",
        "transform_train = transforms.Compose([\n",
        "    # data augmentation\n",
        "    transforms.RandomHorizontalFlip(p=0.5),\n",
        "    transforms.RandomVerticalFlip(p=0.5),\n",
        "    transforms.RandomRotation(degrees=30),\n",
        "    transforms.RandomPerspective(distortion_scale=0.3, p=0.5),\n",
        "    transforms.ToTensor(),\n",
        "    # data normalization    # standardization: (image - train_mean) / train_std\n",
        "    transforms.Normalize(train_mean,train_std)\n",
        "])\n",
        "\n",
        "transform_test = transforms.Compose([\n",
        "    transforms.ToTensor(),\n",
        "    # data normalization    # standardization: (image - train_mean) / train_std\n",
        "    transforms.Normalize(test_mean,test_std)\n",
        "])"
      ]
    },
    {
      "cell_type": "code",
      "source": [
        "def show_transformed_images(transform, x):\n",
        "    plt.figure(figsize=(12, 2))\n",
        "    for i in range(5):\n",
        "        output_image = transform(x)\n",
        "        plt.subplot(1, 5, i+1)\n",
        "        plt.imshow(output_image)"
      ],
      "metadata": {
        "id": "JPKkdly5j4td"
      },
      "execution_count": 9,
      "outputs": []
    },
    {
      "cell_type": "code",
      "execution_count": 10,
      "metadata": {
        "id": "oaJyYUXj6rNW",
        "colab": {
          "base_uri": "https://localhost:8080/"
        },
        "outputId": "a0544b13-806e-44e0-9043-302bad942137"
      },
      "outputs": [
        {
          "output_type": "stream",
          "name": "stdout",
          "text": [
            "Files already downloaded and verified\n",
            "Files already downloaded and verified\n",
            "train length:  45000\n",
            "val length:  5000\n",
            "test length:  10000\n"
          ]
        }
      ],
      "source": [
        "# dataset\n",
        "trainset = torchvision.datasets.CIFAR10(root='./data', train=True, download=True, transform=transform_train)\n",
        "test_ds = torchvision.datasets.CIFAR10(root='./data', train=False, download=True, transform=transform_test)\n",
        "\n",
        "# 檢查training dataset長怎麼樣\n",
        "#print(\"trainset length: \", len(trainset))\n",
        "#print(\"classes: \", trainset.classes)\n",
        "#image, label = trainset[0]\n",
        "#print(\"image shape: \", image.shape)\n",
        "#print(\"label: \", label)\n",
        "\n",
        "# Cifar-10的標籤: ('plane', 'car', 'bird', 'cat', 'deer', 'dog', 'frog', 'horse', 'ship', 'truck')\n",
        "\n",
        "# split validation dataset\n",
        "torch.manual_seed(43)     # 確保每次獲得相同的驗證集\n",
        "val_size = 5000       # 取5000張驗證集(0.1 of trainset)\n",
        "train_size = len(trainset) - val_size\n",
        "train_ds, val_ds = random_split(trainset, [train_size, val_size])\n",
        "print(\"train length: \", len(train_ds))\n",
        "print(\"val length: \", len(val_ds))\n",
        "print(\"test length: \", len(test_ds))\n",
        "\n",
        "trainloader = torch.utils.data.DataLoader(train_ds, batch_size=BATCH_SIZE, shuffle=True, num_workers=2)   #生成batch\n",
        "valloader = torch.utils.data.DataLoader(val_ds, batch_size=BATCH_SIZE, shuffle=False, num_workers=2)\n",
        "testloader = torch.utils.data.DataLoader(test_ds, batch_size=BATCH_SIZE, shuffle=False, num_workers=2)"
      ]
    },
    {
      "cell_type": "code",
      "source": [
        "# # learning rate shedule\n",
        "# def adjust_learning_rate(optim, epoch):\n",
        "#     # define your lr scheduler\n",
        "#     if epoch % 2 == 0:\n",
        "#       optimizer.param_groups[0]['lr'] += optimizer.param_groups[0]['lr']*0.2\n",
        "#     else:\n",
        "#       optimizer.param_groups[0]['lr'] -= optimizer.param_groups[0]['lr']*0.2\n",
        "#     # for param_group in optim.param_groups:\n",
        "#     #     param_group['lr'] = lr"
      ],
      "metadata": {
        "id": "f4z6HKKiTU-7"
      },
      "execution_count": 11,
      "outputs": []
    },
    {
      "cell_type": "code",
      "execution_count": 15,
      "metadata": {
        "id": "WfBB9RKK6t8e",
        "colab": {
          "base_uri": "https://localhost:8080/"
        },
        "outputId": "9305f2d5-463e-4667-91c3-90b68ddd6b96"
      },
      "outputs": [
        {
          "output_type": "stream",
          "name": "stdout",
          "text": [
            "\n",
            "Epoch: 1\n",
            "learning rate:  0.05\n",
            "Train loss: 1.840 | Train acc: 0.323\n",
            "Val loss: 1.730 | Val acc: 0.374\n",
            "\n",
            "Epoch: 2\n",
            "learning rate:  0.05\n",
            "Train loss: 1.520 | Train acc: 0.441\n",
            "Val loss: 1.447 | Val acc: 0.474\n",
            "\n",
            "Epoch: 3\n",
            "learning rate:  0.05\n",
            "Train loss: 1.360 | Train acc: 0.507\n",
            "Val loss: 1.300 | Val acc: 0.525\n",
            "\n",
            "Epoch: 4\n",
            "learning rate:  0.05\n",
            "Train loss: 1.224 | Train acc: 0.560\n",
            "Val loss: 1.403 | Val acc: 0.505\n",
            "\n",
            "Epoch: 5\n",
            "learning rate:  0.05\n",
            "Train loss: 1.133 | Train acc: 0.594\n",
            "Val loss: 1.167 | Val acc: 0.578\n",
            "\n",
            "Epoch: 6\n",
            "learning rate:  0.05\n",
            "Train loss: 1.067 | Train acc: 0.622\n",
            "Val loss: 1.238 | Val acc: 0.578\n",
            "\n",
            "Epoch: 7\n",
            "learning rate:  0.05\n",
            "Train loss: 1.003 | Train acc: 0.644\n",
            "Val loss: 1.059 | Val acc: 0.626\n",
            "\n",
            "Epoch: 8\n",
            "learning rate:  0.05\n",
            "Train loss: 0.958 | Train acc: 0.660\n",
            "Val loss: 0.970 | Val acc: 0.652\n",
            "\n",
            "Epoch: 9\n",
            "learning rate:  0.05\n",
            "Train loss: 0.920 | Train acc: 0.673\n",
            "Val loss: 1.091 | Val acc: 0.628\n",
            "\n",
            "Epoch: 10\n",
            "learning rate:  0.05\n",
            "Train loss: 0.880 | Train acc: 0.688\n",
            "Val loss: 0.952 | Val acc: 0.656\n",
            "\n",
            "Epoch: 11\n",
            "learning rate:  0.05\n",
            "Train loss: 0.843 | Train acc: 0.702\n",
            "Val loss: 0.894 | Val acc: 0.679\n",
            "\n",
            "Epoch: 12\n",
            "learning rate:  0.05\n",
            "Train loss: 0.806 | Train acc: 0.715\n",
            "Val loss: 0.854 | Val acc: 0.694\n",
            "\n",
            "Epoch: 13\n",
            "learning rate:  0.05\n",
            "Train loss: 0.784 | Train acc: 0.724\n",
            "Val loss: 0.926 | Val acc: 0.669\n",
            "\n",
            "Epoch: 14\n",
            "learning rate:  0.05\n",
            "Train loss: 0.755 | Train acc: 0.734\n",
            "Val loss: 0.957 | Val acc: 0.665\n",
            "\n",
            "Epoch: 15\n",
            "learning rate:  0.05\n",
            "Train loss: 0.733 | Train acc: 0.742\n",
            "Val loss: 0.768 | Val acc: 0.726\n",
            "\n",
            "Epoch: 16\n",
            "learning rate:  0.05\n",
            "Train loss: 0.709 | Train acc: 0.749\n",
            "Val loss: 0.810 | Val acc: 0.713\n",
            "\n",
            "Epoch: 17\n",
            "learning rate:  0.05\n",
            "Train loss: 0.692 | Train acc: 0.757\n",
            "Val loss: 0.933 | Val acc: 0.674\n",
            "\n",
            "Epoch: 18\n",
            "learning rate:  0.05\n",
            "Train loss: 0.686 | Train acc: 0.760\n",
            "Val loss: 1.127 | Val acc: 0.618\n",
            "\n",
            "Epoch: 19\n",
            "learning rate:  0.05\n",
            "Train loss: 0.665 | Train acc: 0.766\n",
            "Val loss: 0.895 | Val acc: 0.697\n",
            "\n",
            "Epoch: 20\n",
            "learning rate:  0.05\n",
            "Train loss: 0.659 | Train acc: 0.771\n",
            "Val loss: 0.800 | Val acc: 0.716\n",
            "\n",
            "Epoch: 21\n",
            "learning rate:  0.05\n",
            "Train loss: 0.647 | Train acc: 0.772\n",
            "Val loss: 0.797 | Val acc: 0.722\n",
            "\n",
            "Epoch: 22\n",
            "learning rate:  0.05\n",
            "Train loss: 0.638 | Train acc: 0.781\n",
            "Val loss: 0.940 | Val acc: 0.693\n",
            "\n",
            "Epoch: 23\n",
            "learning rate:  0.05\n",
            "Train loss: 0.629 | Train acc: 0.781\n",
            "Val loss: 0.940 | Val acc: 0.689\n",
            "\n",
            "Epoch: 24\n",
            "learning rate:  0.05\n",
            "Train loss: 0.624 | Train acc: 0.783\n",
            "Val loss: 0.742 | Val acc: 0.738\n",
            "\n",
            "Epoch: 25\n",
            "learning rate:  0.05\n",
            "Train loss: 0.607 | Train acc: 0.789\n",
            "Val loss: 0.741 | Val acc: 0.742\n",
            "\n",
            "Epoch: 26\n",
            "learning rate:  0.05\n",
            "Train loss: 0.610 | Train acc: 0.787\n",
            "Val loss: 0.930 | Val acc: 0.689\n",
            "\n",
            "Epoch: 27\n",
            "learning rate:  0.05\n",
            "Train loss: 0.600 | Train acc: 0.791\n",
            "Val loss: 0.703 | Val acc: 0.748\n",
            "\n",
            "Epoch: 28\n",
            "learning rate:  0.05\n",
            "Train loss: 0.590 | Train acc: 0.793\n",
            "Val loss: 0.732 | Val acc: 0.747\n",
            "\n",
            "Epoch: 29\n",
            "learning rate:  0.05\n",
            "Train loss: 0.582 | Train acc: 0.796\n",
            "Val loss: 0.780 | Val acc: 0.725\n",
            "\n",
            "Epoch: 30\n",
            "learning rate:  0.05\n",
            "Train loss: 0.579 | Train acc: 0.798\n",
            "Val loss: 0.726 | Val acc: 0.750\n",
            "\n",
            "Epoch: 31\n",
            "learning rate:  0.05\n",
            "Train loss: 0.577 | Train acc: 0.797\n",
            "Val loss: 0.666 | Val acc: 0.762\n",
            "\n",
            "Epoch: 32\n",
            "learning rate:  0.05\n",
            "Train loss: 0.570 | Train acc: 0.802\n",
            "Val loss: 0.676 | Val acc: 0.760\n",
            "\n",
            "Epoch: 33\n",
            "learning rate:  0.05\n",
            "Train loss: 0.560 | Train acc: 0.805\n",
            "Val loss: 0.884 | Val acc: 0.702\n",
            "\n",
            "Epoch: 34\n",
            "learning rate:  0.05\n",
            "Train loss: 0.558 | Train acc: 0.806\n",
            "Val loss: 0.732 | Val acc: 0.750\n",
            "\n",
            "Epoch: 35\n",
            "learning rate:  0.05\n",
            "Train loss: 0.552 | Train acc: 0.808\n",
            "Val loss: 0.663 | Val acc: 0.772\n",
            "\n",
            "Epoch: 36\n",
            "learning rate:  0.05\n",
            "Train loss: 0.541 | Train acc: 0.812\n",
            "Val loss: 0.834 | Val acc: 0.720\n",
            "\n",
            "Epoch: 37\n",
            "learning rate:  0.05\n",
            "Train loss: 0.547 | Train acc: 0.809\n",
            "Val loss: 0.773 | Val acc: 0.735\n",
            "\n",
            "Epoch: 38\n",
            "learning rate:  0.05\n",
            "Train loss: 0.538 | Train acc: 0.812\n",
            "Val loss: 0.682 | Val acc: 0.764\n",
            "\n",
            "Epoch: 39\n",
            "learning rate:  0.05\n",
            "Train loss: 0.539 | Train acc: 0.812\n",
            "Val loss: 0.730 | Val acc: 0.748\n",
            "\n",
            "Epoch: 40\n",
            "learning rate:  0.05\n",
            "Train loss: 0.537 | Train acc: 0.814\n",
            "Val loss: 0.668 | Val acc: 0.768\n",
            "\n",
            "Epoch: 41\n",
            "learning rate:  0.05\n",
            "Train loss: 0.533 | Train acc: 0.814\n",
            "Val loss: 0.760 | Val acc: 0.744\n",
            "\n",
            "Epoch: 42\n",
            "learning rate:  0.05\n",
            "Train loss: 0.524 | Train acc: 0.818\n",
            "Val loss: 0.741 | Val acc: 0.750\n",
            "\n",
            "Epoch: 43\n",
            "learning rate:  0.05\n",
            "Train loss: 0.531 | Train acc: 0.816\n",
            "Val loss: 0.701 | Val acc: 0.755\n",
            "\n",
            "Epoch: 44\n",
            "learning rate:  0.05\n",
            "Train loss: 0.517 | Train acc: 0.821\n",
            "Val loss: 0.807 | Val acc: 0.729\n",
            "\n",
            "Epoch: 45\n",
            "learning rate:  0.05\n",
            "Train loss: 0.519 | Train acc: 0.819\n",
            "Val loss: 0.641 | Val acc: 0.776\n",
            "\n",
            "Epoch: 46\n",
            "learning rate:  0.05\n",
            "Train loss: 0.518 | Train acc: 0.820\n",
            "Val loss: 0.669 | Val acc: 0.764\n",
            "\n",
            "Epoch: 47\n",
            "learning rate:  0.05\n",
            "Train loss: 0.513 | Train acc: 0.821\n",
            "Val loss: 0.627 | Val acc: 0.780\n",
            "\n",
            "Epoch: 48\n",
            "learning rate:  0.05\n",
            "Train loss: 0.510 | Train acc: 0.823\n",
            "Val loss: 0.697 | Val acc: 0.749\n",
            "\n",
            "Epoch: 49\n",
            "learning rate:  0.05\n",
            "Train loss: 0.506 | Train acc: 0.823\n",
            "Val loss: 0.698 | Val acc: 0.761\n",
            "\n",
            "Epoch: 50\n",
            "learning rate:  0.05\n",
            "Train loss: 0.501 | Train acc: 0.825\n",
            "Val loss: 0.679 | Val acc: 0.761\n",
            "\n",
            "Epoch: 51\n",
            "learning rate:  0.05\n",
            "Train loss: 0.506 | Train acc: 0.823\n",
            "Val loss: 0.650 | Val acc: 0.774\n",
            "\n",
            "Epoch: 52\n",
            "learning rate:  0.05\n",
            "Train loss: 0.501 | Train acc: 0.826\n",
            "Val loss: 0.640 | Val acc: 0.772\n",
            "\n",
            "Epoch: 53\n",
            "learning rate:  0.05\n",
            "Train loss: 0.496 | Train acc: 0.826\n",
            "Val loss: 0.669 | Val acc: 0.771\n",
            "\n",
            "Epoch: 54\n",
            "learning rate:  0.05\n",
            "Train loss: 0.502 | Train acc: 0.825\n",
            "Val loss: 0.665 | Val acc: 0.772\n",
            "\n",
            "Epoch: 55\n",
            "learning rate:  0.05\n",
            "Train loss: 0.499 | Train acc: 0.827\n",
            "Val loss: 0.750 | Val acc: 0.752\n",
            "Test loss: 0.556 | Test acc: 0.812\n"
          ]
        }
      ],
      "source": [
        "#是否pretrain\n",
        "net = ResNet(ResBlock).to(device)\n",
        "\n",
        "# 定義損失函數和優化方式\n",
        "criterion = nn.CrossEntropyLoss()  #loss function\n",
        "optimizer = optim.SGD(net.parameters(), lr=lr, momentum=0.9, weight_decay=5e-4) #優化方式為mini-batch momentum-SGD，採用L2正則化（權重衰減）\n",
        "# schecdular = torch.optim.lr_scheduler.StepLR(optimizer,step_size=10,gamma=0.5,last_epoch=-1)\n",
        "# train\n",
        "if __name__ == \"__main__\":\n",
        "    train_loss, train_acc = [], []\n",
        "    val_loss, val_acc = [], []\n",
        "    for epoch in range(pre_epoch, EPOCH):\n",
        "        net.train()\n",
        "        sum1_loss, sum2_loss = 0.0, 0.0\n",
        "        correct = 0.0\n",
        "        total = 0.0\n",
        "        print('\\nEpoch: %d' % (epoch + 1))\n",
        "        for i, traindata in enumerate(trainloader, 0):\n",
        "            # prepare data\n",
        "            length = len(trainloader)\n",
        "            inputs, train_labels = traindata\n",
        "            inputs, train_labels = inputs.to(device), train_labels.to(device)\n",
        "            optimizer.zero_grad()\n",
        "\n",
        "            # forward + backward\n",
        "            train_outputs = net(inputs)\n",
        "            trainloss = criterion(train_outputs, train_labels)\n",
        "            trainloss.backward()\n",
        "            optimizer.step()\n",
        "\n",
        "            # 每訓練1個batch的loss和acc\n",
        "            sum1_loss += trainloss.item()\n",
        "            _, predicted = torch.max(train_outputs.data, 1)     # 取得分數最高的那個類 (outputs.data的index), train_outputs.data.shape is torch.Size([128, 10])\n",
        "            # print(torch.max(train_outputs.data, 1)[1])\n",
        "            total += train_labels.size(0)\n",
        "            correct += predicted.eq(train_labels.data).cpu().sum()\n",
        "\n",
        "\n",
        "        # schecdular.step()\n",
        "        writer.add_scalar(\"lr\", optimizer.param_groups[0]['lr'], epoch)\n",
        "        # adjust_learning_rate(optimizer, epoch)\n",
        "        print(\"learning rate: \",  optimizer.param_groups[0]['lr'])\n",
        "\n",
        "        loss1 = sum1_loss / (i + 1) # i is equal to number of batches\n",
        "        acc1 = correct / total\n",
        "        print(\"Train loss: %.3f | Train acc: %.3f\" % (loss1, acc1))\n",
        "        train_loss.append(loss1)\n",
        "        train_acc.append(acc1.item())\n",
        "\n",
        "        # 每個epoch完用val驗證\n",
        "        with torch.no_grad():\n",
        "            correct = 0\n",
        "            total = 0\n",
        "            for j, valdata in enumerate(valloader, 0):\n",
        "                net.eval()\n",
        "                images, val_labels = valdata\n",
        "                images, val_labels = images.to(device), val_labels.to(device)\n",
        "                val_outputs = net(images)\n",
        "                valloss = criterion(val_outputs, val_labels)\n",
        "\n",
        "                sum2_loss += valloss.item()\n",
        "                _, predicted = torch.max(val_outputs.data, 1)\n",
        "                total += val_labels.size(0)\n",
        "                correct += (predicted == val_labels).sum()\n",
        "\n",
        "            loss2 = sum2_loss / (j + 1)\n",
        "            acc2 = correct / total\n",
        "            print(\"Val loss: %.3f | Val acc: %.3f\" % (loss2, acc2))\n",
        "            val_loss.append(loss2)\n",
        "            val_acc.append(acc2.item())\n",
        "\n",
        "    # 用test測試\n",
        "    with torch.no_grad():\n",
        "        correct = 0\n",
        "        total = 0\n",
        "        sum3_loss = 0.0\n",
        "        for k, testdata in enumerate(testloader, 0):\n",
        "            net.eval()\n",
        "            imgs, test_labels = testdata\n",
        "            imgs, test_labels = imgs.to(device), test_labels.to(device)\n",
        "            test_outputs = net(imgs)\n",
        "            testloss = criterion(test_outputs, test_labels)\n",
        "\n",
        "            sum3_loss += testloss.item()\n",
        "            _, predicted = torch.max(test_outputs.data, 1)\n",
        "            total += test_labels.size(0)\n",
        "            correct += (predicted == test_labels).sum()\n",
        "\n",
        "        loss3 = sum3_loss / (k + 1)\n",
        "        acc3 = correct / total\n",
        "        print(\"Test loss: %.3f | Test acc: %.3f\" % (loss3, acc3))"
      ]
    },
    {
      "cell_type": "code",
      "execution_count": 16,
      "metadata": {
        "id": "g-QShVIgmicX",
        "colab": {
          "base_uri": "https://localhost:8080/",
          "height": 927
        },
        "outputId": "c5ece4e5-6809-469d-c9df-26a53dfd0286"
      },
      "outputs": [
        {
          "output_type": "display_data",
          "data": {
            "text/plain": [
              "<Figure size 640x480 with 1 Axes>"
            ],
            "image/png": "[encoded data removed]"
          },
          "metadata": {}
        },
        {
          "output_type": "display_data",
          "data": {
            "text/plain": [
              "<Figure size 640x480 with 1 Axes>"
            ],
            "image/png": "[encoded data removed]"
          },
          "metadata": {}
        }
      ],
      "source": [
        "import matplotlib.pyplot as plt\n",
        "# plot accuracy curve\n",
        "plt.figure(0)\n",
        "plt.plot(range(1,EPOCH+1,1), np.array(train_acc), 'r-', label= \"train accuracy\")\n",
        "plt.plot(range(1,EPOCH+1,1), np.array(val_acc), 'b-', label= \"val accuracy\")\n",
        "plt.title(\"Accuracy\")\n",
        "plt.xlabel('epoch')\n",
        "plt.ylabel('accuracy')\n",
        "#plt.ylim(0.6, 1.1)\n",
        "plt.legend()\n",
        "plt.show()\n",
        "\n",
        "# plot loss curve\n",
        "plt.figure(1)\n",
        "plt.plot(range(1,EPOCH+1,1), np.array(train_loss), 'r-', label= \"train loss\")\n",
        "plt.plot(range(1,EPOCH+1,1), np.array(val_loss), 'b-', label= \"val loss\")\n",
        "plt.title(\"Loss\")\n",
        "plt.xlabel('epoch')\n",
        "plt.ylabel('loss')\n",
        "plt.legend()\n",
        "plt.show()"
      ]
    },
    {
      "cell_type": "code",
      "source": [],
      "metadata": {
        "id": "__GKVPPtQCLD"
      },
      "execution_count": 13,
      "outputs": []
    }
  ],
  "metadata": {
    "accelerator": "GPU",
    "colab": {
      "provenance": []
    },
    "kernelspec": {
      "display_name": "Python 3",
      "name": "python3"
    },
    "language_info": {
      "name": "python"
    }
  },
  "nbformat": 4,
  "nbformat_minor": 0
}