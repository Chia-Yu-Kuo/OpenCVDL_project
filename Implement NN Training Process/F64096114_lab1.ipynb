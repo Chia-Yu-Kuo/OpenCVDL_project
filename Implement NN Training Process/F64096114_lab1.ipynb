{
  "nbformat": 4,
  "nbformat_minor": 0,
  "metadata": {
    "colab": {
      "provenance": [],
      "gpuType": "T4"
    },
    "kernelspec": {
      "name": "python3",
      "display_name": "Python 3"
    },
    "language_info": {
      "name": "python"
    },
    "accelerator": "GPU"
  },
  "cells": [
    {
      "cell_type": "markdown",
      "source": [
        "###1. Implement the following layers as python functions(both forward and backward propagation)\n",
        "* Inner-product layer\n",
        "* Activation layer(Sigmoid or Rectified)\n",
        "* Softmax layer\n",
        "\n",
        "###2. Implement training and testing process\n",
        "* included cross-validation\n",
        "\n",
        "###3. Plot epoch-accuracy curves\n"
      ],
      "metadata": {
        "id": "rlmh1D8ia79e"
      }
    },
    {
      "cell_type": "code",
      "execution_count": 1,
      "metadata": {
        "id": "jgMAQNAnr_k1",
        "outputId": "aef7708f-24a3-4c63-cb34-d4592c7e4939",
        "colab": {
          "base_uri": "https://localhost:8080/"
        }
      },
      "outputs": [
        {
          "output_type": "stream",
          "name": "stdout",
          "text": [
            "Mounted at /content/drive\n"
          ]
        }
      ],
      "source": [
        "from google.colab import drive\n",
        "drive.mount('/content/drive')"
      ]
    },
    {
      "cell_type": "code",
      "source": [
        "%cd /content/drive/MyDrive/EAI/Lab1"
      ],
      "metadata": {
        "id": "MUds0dh6WX0G",
        "outputId": "36531a1d-a115-4253-8530-aeb5191257bb",
        "colab": {
          "base_uri": "https://localhost:8080/"
        }
      },
      "execution_count": 2,
      "outputs": [
        {
          "output_type": "stream",
          "name": "stdout",
          "text": [
            "/content/drive/MyDrive/EAI/Lab1\n"
          ]
        }
      ]
    },
    {
      "cell_type": "code",
      "source": [
        "import numpy as np\n",
        "import matplotlib.pyplot as plt"
      ],
      "metadata": {
        "id": "ukxBJ3dksMZ-"
      },
      "execution_count": 3,
      "outputs": []
    },
    {
      "cell_type": "code",
      "source": [
        "# load MNIST dataset\n",
        "image_size = 28           # width and length\n",
        "no_of_different_labels = 10     #  i.e. 0, 1, 2, 3, ..., 9\n",
        "image_pixels = image_size * image_size\n",
        "train_data = np.loadtxt(\"mnist_train.csv\", delimiter=\",\")\n",
        "test_data = np.loadtxt(\"mnist_test.csv\", delimiter=\",\")\n",
        "\n",
        "# data preprocessing\n",
        "\n",
        "# map pixels information from range(0, 255) to range(0.01, 1)\n",
        "fac = 0.99 / 255\n",
        "train_imgs = np.asfarray(train_data[:, 1:]) * fac + 0.01\n",
        "test_imgs = np.asfarray(test_data[:, 1:]) * fac + 0.01\n",
        "\n",
        "print(train_imgs.shape)\n",
        "train_labels = np.asfarray(train_data[:, :1])\n",
        "test_labels = np.asfarray(test_data[:, :1])\n",
        "print(train_labels.shape)\n",
        "\n",
        "lr = np.arange(no_of_different_labels)\n",
        "\n",
        "# transform labels into one hot representation\n",
        "train_labels_one_hot = (lr==train_labels).astype(np.float64)\n",
        "test_labels_one_hot = (lr==test_labels).astype(np.float64)\n",
        "print(train_labels_one_hot.shape)"
      ],
      "metadata": {
        "id": "j8seIvepsQ1a",
        "colab": {
          "base_uri": "https://localhost:8080/"
        },
        "outputId": "af82ba62-08db-491b-a4f2-e41fec58cb3b"
      },
      "execution_count": 4,
      "outputs": [
        {
          "output_type": "stream",
          "name": "stdout",
          "text": [
            "(60000, 784)\n",
            "(60000, 1)\n",
            "(60000, 10)\n"
          ]
        }
      ]
    },
    {
      "cell_type": "code",
      "source": [
        "train_labels_one_hot[0]"
      ],
      "metadata": {
        "colab": {
          "base_uri": "https://localhost:8080/"
        },
        "id": "W3fjOyqzH_bM",
        "outputId": "6d50676e-2d3b-4b32-a6f1-2a3835322abf"
      },
      "execution_count": 5,
      "outputs": [
        {
          "output_type": "execute_result",
          "data": {
            "text/plain": [
              "array([0., 0., 0., 0., 0., 1., 0., 0., 0., 0.])"
            ]
          },
          "metadata": {},
          "execution_count": 5
        }
      ]
    },
    {
      "cell_type": "markdown",
      "source": [
        "# layer definition\n",
        "# include W & B"
      ],
      "metadata": {
        "id": "8OLlNLpVYUA2"
      }
    },
    {
      "cell_type": "code",
      "source": [
        "#initialize\n",
        "######################################################\n",
        "def initial_parameter(layer_dim):\n",
        "  parameter = {}\n",
        "  np.random.seed(0)\n",
        "  for i in range(1, len(layer_dim)):\n",
        "    #W\n",
        "    parameter['W'+str(i)] = np.random.randn(layer_dim[i-1],layer_dim[i])\n",
        "    #B\n",
        "    parameter['B'+str(i)] = np.random.randn(1,layer_dim[i])\n",
        "  #X\n",
        "  #parameter['X0'] = img\n",
        "  parameter['X1_prev'] = np.zeros((1,layer_dim[1]))\n",
        "  parameter['X1'] = np.zeros((1,layer_dim[1]))\n",
        "  parameter['X2_prev'] = np.zeros((1,layer_dim[2]))\n",
        "\n",
        "  return parameter"
      ],
      "metadata": {
        "id": "v164Rtl4vDN9"
      },
      "execution_count": 6,
      "outputs": []
    },
    {
      "cell_type": "code",
      "source": [
        "#forward\n",
        "######################################################\n",
        "def InnerProduct_ForProp(x,W,b):\n",
        "  #y = np.dot(x,W) + b\n",
        "  y = np.matmul(x,W) + b\n",
        "  return y\n",
        "\n",
        "def Softmax_ForProp(x):\n",
        "  # #stable\n",
        "  # temp = np.exp(x - np.max(x))\n",
        "  # y = temp / np.sum(np.exp(x))\n",
        "  #origgin\n",
        "  y = np.exp(x) / np.sum(np.exp(x))\n",
        "  return y\n",
        "\n",
        "def Sigmoid_ForProp(x):\n",
        "  y = 1 / (1+np.exp(-x))\n",
        "  return y\n",
        "\n",
        "# def Rectified_ForProp(x)\n",
        "#     return y\n",
        "\n",
        "\n",
        "# Forward-propagation\n",
        "def forword_propagation(x, parameter):    #nparray is pass by ref??\n",
        "  parameter['X1_prev'] = InnerProduct_ForProp(x,parameter['W1'],parameter['B1'])\n",
        "  parameter['X1'] = Sigmoid_ForProp(parameter['X1_prev'])\n",
        "  parameter['X2_prev'] = InnerProduct_ForProp(parameter['X1'],parameter['W2'],parameter['B2'])\n",
        "\n",
        "  # print(parameter['X2_prev'])\n",
        "  predict = Softmax_ForProp(parameter['X2_prev'])\n",
        "  # print('######################################')\n",
        "  # print(predict)\n",
        "  # print('######################################')\n",
        "  # print(predict.shape)  (1, 10)\n",
        "  return predict\n",
        "\n"
      ],
      "metadata": {
        "id": "xi_hFpXtYQ-v"
      },
      "execution_count": 7,
      "outputs": []
    },
    {
      "cell_type": "code",
      "source": [
        "#Loss function (cross entrophy)   https://towardsdatascience.com/cross-entropy-loss-function-f38c4ec8643e\n",
        "def loss_function(predict, label):\n",
        "  # #binary Cross-Entropy\n",
        "  # label_size = predict.shape[1]   #predict.shape[1] != predict[1].shape  (tuple)\n",
        "  # loss = (-1/label_size) * np.sum(np.multiply(label,np.log(predict)) + np.multiply((1-label),np.log(1-predict)))\n",
        "\n",
        "  # Cross-Entropy\n",
        "  loss = -np.sum(np.multiply(label,np.log(predict)))\n",
        "  return loss"
      ],
      "metadata": {
        "id": "R9aStjqhyFfU"
      },
      "execution_count": 8,
      "outputs": []
    },
    {
      "cell_type": "code",
      "source": [
        "#backward\n",
        "######################################################\n",
        "# np.dot()、np.multiply()、np.matmul() https://blog.csdn.net/FrankieHello/article/details/103510118\n",
        "\n",
        "def InnerProduct_BackProp(dEdy,x,W,b):    #dEdy is previous term\n",
        "  dEdx = np.dot(dEdy,W.T)   #1*10 10*256\n",
        "  dEdW = np.matmul(x.T,dEdy)  #256*1 1*10\n",
        "  dEdb = dEdy\n",
        "  return dEdx,dEdW,dEdb\n",
        "\n",
        "\n",
        "def Softmax_BackProp(y,t):     # from loss to softmaxIN\n",
        "  dEdx = y - t\n",
        "  return dEdx\n",
        "\n",
        "def Sigmoid_BackProp(dEdy,x):  # https://towardsdatascience.com/derivative-of-sigmoid-and-cross-entropy-functions-5169525e6705\n",
        "  mul1 = Sigmoid_ForProp(x)\n",
        "  mul2 = (1-Sigmoid_ForProp(x))\n",
        "  D = np.multiply(mul1,mul2)\n",
        "  dEdx = np.multiply(dEdy,D)  #1*256  1*256\n",
        "  return dEdx\n",
        "\n",
        "\n",
        "# def Rectified_BackProp(dEdy,x)\n",
        "#   return dEdx\n",
        "\n",
        "\n",
        "# Bakcward-propagation\n",
        "def backward_propagation(predict,label,parameter,img):\n",
        "  gradient = {}\n",
        "  #layer2\n",
        "  SOFTM_out = Softmax_BackProp(predict,label)\n",
        "  gradient['dEdx2'],gradient['dEdW2'],gradient['dEdb2'] = InnerProduct_BackProp(SOFTM_out,parameter['X1'],parameter['W2'],parameter['B2'])\n",
        "  #layer1\n",
        "  SIGM_out = Sigmoid_BackProp(gradient['dEdx2'],parameter['X1_prev'])\n",
        "  gradient['dEdx1'],gradient['dEdW1'],gradient['dEdb1'] = InnerProduct_BackProp(SIGM_out,img,parameter['W1'],parameter['B1'])\n",
        "\n",
        "  return gradient"
      ],
      "metadata": {
        "id": "Buab67trYIzf"
      },
      "execution_count": 9,
      "outputs": []
    },
    {
      "cell_type": "markdown",
      "source": [
        "# Gradient descent"
      ],
      "metadata": {
        "id": "BORpbYPQYhqm"
      }
    },
    {
      "cell_type": "code",
      "source": [
        "#Updating (Gradient descent)\n",
        "def update_parameter(parameter,gradient,learning_rate):\n",
        "  parameter['W1'] -= learning_rate*gradient['dEdW1']\n",
        "  parameter['B1'] -= learning_rate*gradient['dEdb1']\n",
        "  parameter['W2'] -= learning_rate*gradient['dEdW2']\n",
        "  parameter['B2'] -= learning_rate*gradient['dEdb2']\n",
        "  return parameter\n"
      ],
      "metadata": {
        "id": "iUfJmPINX1Hw"
      },
      "execution_count": 10,
      "outputs": []
    },
    {
      "cell_type": "markdown",
      "source": [
        "# NN model"
      ],
      "metadata": {
        "id": "6YPtgJvMgvVo"
      }
    },
    {
      "cell_type": "code",
      "source": [
        "#nn model\n",
        "layer_dim = [784, 256, 10] #2 layer\n",
        "epoch = 10\n",
        "learning_rate = 0.0075\n",
        "\n",
        "# Separate train_imgs, train_labels into training and validation\n",
        "# 9/10 training  / 1/10 validation\n",
        "\n",
        "#cross validation\n",
        "val_size = 6000\n",
        "train_size = 60000 - val_size\n",
        "\n",
        "# x_val = np.zeros([val_size,784],dtype=float)\n",
        "# y_val = np.zeros([val_size],dtype=float)\n",
        "# y_one_hot_val = np.zeros([val_size,10],dtype=float)\n",
        "# x_train = np.zeros([train_size,784],dtype=float)\n",
        "# y_train = np.zeros([train_size],dtype=float)\n",
        "# y_one_hot_train = np.zeros([train_size,10],dtype=float)\n",
        "\n",
        "train_loss_history = []\n",
        "val_loss_history = []\n",
        "train_accuracy_history = []\n",
        "val_accuracy_history = []\n",
        "\n",
        "\n",
        "#initialize\n",
        "parameter = initial_parameter(layer_dim)\n",
        "\n",
        "# print(parameter['W1'].shape)      #(784, 256)\n",
        "# print(parameter['W2'].shape)      #(256, 10)\n",
        "# print(parameter['B1'].shape)      #(1, 256)\n",
        "# print(parameter['B2'].shape)      #(1, 10)\n",
        "# print(parameter['X1_prev'].shape)    #(1, 256)\n",
        "# print(parameter['X1'].shape)      #(1, 256)\n",
        "# print(parameter['X2_prev'].shape)    #(1, 10)\n",
        "\n",
        "# https://ithelp.ithome.com.tw/articles/10207424\n",
        "for e in range(epoch):\n",
        "  #cross validation\n",
        "  start_idx = e * val_size\n",
        "  end_idx = (e + 1) * val_size\n",
        "\n",
        "  x_val = train_imgs[start_idx:end_idx]\n",
        "  y_val = train_labels[start_idx:end_idx]\n",
        "  y_one_hot_val = train_labels_one_hot[start_idx:end_idx]\n",
        "  x_train = np.concatenate([train_imgs[:start_idx],train_imgs[end_idx:]])\n",
        "  y_train = np.concatenate([train_labels[:start_idx],train_labels[end_idx:]])\n",
        "  y_one_hot_train = np.concatenate([train_labels_one_hot[:start_idx],train_labels_one_hot[end_idx:]])\n",
        "\n",
        "  x_val = x_val.reshape((6000,1,784))\n",
        "  y_one_hot_val = y_one_hot_val.reshape((6000,1,10))\n",
        "  x_train = x_train.reshape((54000,1,784))\n",
        "  y_one_hot_train = y_one_hot_train.reshape((54000,1,10))\n",
        "\n",
        "  # print(y_one_hot_val[0])\n",
        "  # print(y_one_hot_train[10])\n",
        "  # print(y_val[0])\n",
        "  # print(y_train[10])\n",
        "  # print(y_one_hot_train.shape)\n",
        "  # print(y_train.shape)\n",
        "\n",
        "\n",
        "  #training\n",
        "  epoch_train_loss = 0\n",
        "  epoch_train_correct = 0\n",
        "  for i in range(train_size):\n",
        "    #For Porp\n",
        "    predict_train = forword_propagation(x_train[i],parameter)\n",
        "    # print(predict)\n",
        "\n",
        "    # print(parameter['W1'].shape)      #(784, 256)\n",
        "    # print(parameter['B1'].shape)      #(1, 256)\n",
        "    # print(parameter['W2'].shape)      #(256, 10)\n",
        "    # print(parameter['B2'].shape)      #(1, 10)\n",
        "    # print(parameter['X1_prev'].shape)     #(1, 256)\n",
        "    # print(parameter['X1'].shape)        #(1, 256)\n",
        "    # print(parameter['X2_prev'].shape)     #(1, 10)\n",
        "\n",
        "    # print(parameter['W1'])\n",
        "    # print(parameter['B1'])\n",
        "    # print(parameter['W2'])\n",
        "    # print(parameter['B2'])\n",
        "    # print(parameter['X1_prev'])\n",
        "    # print(parameter['X1'])\n",
        "    # print(parameter['X2_prev'])\n",
        "\n",
        "    # print(y_one_hot_train[i])\n",
        "    # print('#############################################################')\n",
        "    #print('predict: ',  predict_train)\n",
        "\n",
        "\n",
        "\n",
        "    #loss\n",
        "    # print(predict_train)\n",
        "    # print(y_one_hot_train[i])\n",
        "    temp_loss = loss_function(predict_train, y_one_hot_train[i])\n",
        "    epoch_train_loss += temp_loss\n",
        "    if np.argmax(predict_train) == np.argmax(y_one_hot_train[i]):\n",
        "      epoch_train_correct += 1\n",
        "\n",
        "\n",
        "    #Back Prop\n",
        "    gradient = backward_propagation(predict_train,y_one_hot_train[i],parameter,x_train[i])\n",
        "\n",
        "    # print(predict_train.shape)\n",
        "    # print(y_one_hot_train[i].shape)\n",
        "    # print(gradient['dEdx2'].shape)      #(1, 256)\n",
        "    # print(gradient['dEdW2'].shape)      #(256, 10)\n",
        "    # print(gradient['dEdb2'].shape)      #(1, 10)\n",
        "    # print(gradient['dEdx1'].shape)      #(1, 784)\n",
        "    # print(gradient['dEdW1'].shape)      #(784, 256)\n",
        "    # print(gradient['dEdb1'].shape)      #(1, 256)\n",
        "    # print('#############################################################')\n",
        "\n",
        "\n",
        "    # Parameters Updating\n",
        "    parameter = update_parameter(parameter,gradient,learning_rate)\n",
        "\n",
        "  # print(parameter['B2'])\n",
        "\n",
        "  #validation\n",
        "  epoch_val_loss = 0\n",
        "  epoch_val_correct = 0\n",
        "  for i in range(val_size):\n",
        "    predict_val = forword_propagation(x_val[i],parameter)\n",
        "    temp_loss = loss_function(predict_val, y_one_hot_val[i])\n",
        "    epoch_val_loss += temp_loss\n",
        "    if np.argmax(predict_val) == np.argmax(y_one_hot_val[i]):\n",
        "      epoch_val_correct += 1\n",
        "\n",
        "  train_accuracy = float(epoch_train_correct)/54000.\n",
        "  val_accuracy = float(epoch_val_correct)/6000.\n",
        "  #store history\n",
        "  train_loss_history.append(epoch_train_loss/54000.)\n",
        "  train_accuracy_history.append(train_accuracy)\n",
        "  val_loss_history.append(epoch_val_loss/6000.)\n",
        "  val_accuracy_history.append(val_accuracy)\n",
        "\n",
        "  #print epoch result\n",
        "  print('epoch: ',e, 'train_loss: ',epoch_train_loss, 'val_loss: ',epoch_val_loss, 'train_accuracy: ',train_accuracy,' val_accuracy: ',val_accuracy )\n",
        "\n"
      ],
      "metadata": {
        "id": "jMLeRKqdvJ88",
        "colab": {
          "base_uri": "https://localhost:8080/"
        },
        "outputId": "057eb64f-5250-4454-c6ba-ca42dd761586"
      },
      "execution_count": 24,
      "outputs": [
        {
          "output_type": "stream",
          "name": "stdout",
          "text": [
            "epoch:  0 train_loss:  48934.75208252078 val_loss:  2861.4476082099313 train_accuracy:  0.8207592592592593  val_accuracy:  0.8925\n",
            "epoch:  1 train_loss:  20251.578454852657 val_loss:  2060.17047168923 train_accuracy:  0.9082592592592592  val_accuracy:  0.9133333333333333\n",
            "epoch:  2 train_loss:  14565.776612674377 val_loss:  1656.8715106186023 train_accuracy:  0.9294074074074075  val_accuracy:  0.9258333333333333\n",
            "epoch:  3 train_loss:  11931.960905266309 val_loss:  1163.5126367559255 train_accuracy:  0.9407962962962962  val_accuracy:  0.9441666666666667\n",
            "epoch:  4 train_loss:  9842.897804349885 val_loss:  1172.0189774999446 train_accuracy:  0.9488888888888889  val_accuracy:  0.9433333333333334\n",
            "epoch:  5 train_loss:  8566.986722189466 val_loss:  977.2679635366715 train_accuracy:  0.955962962962963  val_accuracy:  0.9515\n",
            "epoch:  6 train_loss:  7561.881147468632 val_loss:  888.8446533311067 train_accuracy:  0.960462962962963  val_accuracy:  0.9585\n",
            "epoch:  7 train_loss:  6684.839205234691 val_loss:  913.3228200445386 train_accuracy:  0.9654814814814815  val_accuracy:  0.9501666666666667\n",
            "epoch:  8 train_loss:  6105.835663287175 val_loss:  732.2169385726185 train_accuracy:  0.9679629629629629  val_accuracy:  0.9621666666666666\n",
            "epoch:  9 train_loss:  5696.15360316408 val_loss:  502.0226725398667 train_accuracy:  0.9703333333333334  val_accuracy:  0.9761666666666666\n"
          ]
        }
      ]
    },
    {
      "cell_type": "markdown",
      "source": [
        "# predict"
      ],
      "metadata": {
        "id": "jW80HShdg0Gw"
      }
    },
    {
      "cell_type": "code",
      "source": [
        "# Using test_images and test_labels to do the final test\n",
        "test_size = 10000\n",
        "test_correct = 0\n",
        "for i in range(test_size):\n",
        "  predict = forword_propagation(test_imgs[i],parameter)\n",
        "  if np.argmax(predict) == np.argmax(test_labels_one_hot[i]):\n",
        "    test_correct += 1\n",
        "\n",
        "print('test accuracy:' ,(float(test_correct)/10000.))"
      ],
      "metadata": {
        "id": "YkIarEYOsNIL",
        "colab": {
          "base_uri": "https://localhost:8080/"
        },
        "outputId": "4b738ae5-2234-4643-d8c4-7dc46e4af39c"
      },
      "execution_count": 25,
      "outputs": [
        {
          "output_type": "stream",
          "name": "stdout",
          "text": [
            "test accuracy: 0.9439\n"
          ]
        }
      ]
    },
    {
      "cell_type": "code",
      "source": [
        "# plot accuracy and loss curves\n",
        "import matplotlib.pyplot as plt\n",
        "\n",
        "def show_train_history(ylabel,train,validation):\n",
        "    plt.plot(train)\n",
        "    plt.plot(validation)\n",
        "    plt.title('Train History')\n",
        "    plt.ylabel(ylabel)\n",
        "    plt.xlabel('Epoch')\n",
        "    plt.legend(['train', 'validation'], loc='upper left')\n",
        "    plt.show()\n"
      ],
      "metadata": {
        "id": "83d2qq4oCvy6"
      },
      "execution_count": 26,
      "outputs": []
    },
    {
      "cell_type": "code",
      "source": [
        "show_train_history('loss',train_loss_history , val_loss_history)\n",
        "show_train_history('accuracy',train_accuracy_history , val_accuracy_history)"
      ],
      "metadata": {
        "id": "W7Ak7frAETdw",
        "colab": {
          "base_uri": "https://localhost:8080/",
          "height": 927
        },
        "outputId": "771a7887-10ac-499d-9751-80e7131c5f41"
      },
      "execution_count": 27,
      "outputs": [
        {
          "output_type": "display_data",
          "data": {
            "text/plain": [
              "<Figure size 640x480 with 1 Axes>"
            ],
            "image/png": "[encoded data removed]"
          },
          "metadata": {}
        },
        {
          "output_type": "display_data",
          "data": {
            "text/plain": [
              "<Figure size 640x480 with 1 Axes>"
            ],
            "image/png": "[encoded data removed]"
          },
          "metadata": {}
        }
      ]
    },
    {
      "cell_type": "code",
      "source": [],
      "metadata": {
        "id": "oGLy1pNKdw7T"
      },
      "execution_count": null,
      "outputs": []
    }
  ]
}